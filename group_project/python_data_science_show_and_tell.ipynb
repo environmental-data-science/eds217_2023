{
 "cells": [
  {
   "cell_type": "markdown",
   "metadata": {
    "slideshow": {
     "slide_type": "slide"
    }
   },
   "source": [
    "# 📣 Data Science Library Show-and-Tell "
   ]
  },
  {
   "cell_type": "markdown",
   "metadata": {
    "slideshow": {
     "slide_type": "slide"
    }
   },
   "source": [
    "## Python Library Show-and-Tell\n",
    "\n",
    "1. Form groups of 4-5 Students\n",
    "1. Find a Library\n",
    "1. Working collaboratively use a github repo to create a notebook about the library\n",
    "1. Present notebook to class (10-15 min)\n",
    "\n"
   ]
  },
  {
   "cell_type": "markdown",
   "metadata": {
    "slideshow": {
     "slide_type": "subslide"
    }
   },
   "source": [
    "### Find a Library\n",
    "    \n",
    "- [PyPi](https://pypi.org) `pypi.org`\n",
    "- [Towards Data Science](https://towardsdatascience.com) `towardsdatascience.com`\n",
    "- Podcasts: [Talk Python to Me](https://talkpython.fm/episodes/all), [Linear Digressions](https://lineardigressions.com), [Python Bytes](https://pythonbytes.fm)\n",
    "- Domain-specific searches \"python oceanography\", \"python climate science\", etc...\n",
    "\n",
    "Good candidates for a Show-and-Tell are libraries that are relevant and popular. \n",
    "\n",
    "Popularity can measured with GitHub stars, or PyPi downloads. Or if folks in the data science community are talking about it.\n"
   ]
  },
  {
   "cell_type": "markdown",
   "metadata": {},
   "source": [
    "### Here are some example tutorials made by past classes:\n",
    "\n",
    "1. [Dask (2022-2023)](https://github.com/environmental-data-science/eds217-dask-tutorial)\n",
    "1. [Selenium (2022-2023)](https://github.com/environmental-data-science/eds217-selenium-tutorial)\n",
    "1. [Plotly (2022-2023)](https://github.com/environmental-data-science/eds217-plotly-tutorial)\n"
   ]
  },
  {
   "cell_type": "markdown",
   "metadata": {
    "slideshow": {
     "slide_type": "subslide"
    }
   },
   "source": [
    "### Create a github repo for your tutorial. \n",
    "\n",
    "The repo should contain:\n",
    "\n",
    "1. an environment file including all necessary dependencies\n",
    "1. a README.md file with a brief description of the library and a link to the library's webpage or github repo.\n",
    "1. an example notebook (or notebooks) about the library.\n",
    "1. any other files necessary to run the example notebook(s)\n",
    "\n",
    "### Notebook contents:\n",
    "- Brief Description\n",
    "    - What is it?\n",
    "    - Where is it? Link to project webpage, github\n",
    "    - Who developed?\n",
    "    - Why was it created?\n",
    "- Potential Use in Environmental Data Science\n",
    "- Quick tutorial/example, using Env. Data Sci example if possible!\n",
    "    - Okay to incorporate examples found elsewhere (provide link and acknowledgement!)"
   ]
  },
  {
   "cell_type": "markdown",
   "metadata": {
    "slideshow": {
     "slide_type": "subslide"
    }
   },
   "source": [
    "### Library Show-and-Tell\n",
    "    \n",
    "- Present your notebook to the class!\n",
    "- 10-15 minute presentation.\n",
    "- Q&A.\n",
    "- We will have our presentations in the afternoon on the last day of class (Friday, Sept. 15)\n",
    "- All repos will be cloned to the environmentaldatascience github so everyone can learn from each other.\n",
    "\n",
    "#### BY LUNCH ON WEDNESDAY: SELECT YOUR LIBRARY, PLUS TWO ALTERNATES (IN CASE OF DUPLICATES)\n",
    "\n",
    "\n"
   ]
  }
 ],
 "metadata": {
  "celltoolbar": "Slideshow",
  "kernelspec": {
   "display_name": "Python 3 (ipykernel)",
   "language": "python",
   "name": "python3"
  },
  "language_info": {
   "codemirror_mode": {
    "name": "ipython",
    "version": 3
   },
   "file_extension": ".py",
   "mimetype": "text/x-python",
   "name": "python",
   "nbconvert_exporter": "python",
   "pygments_lexer": "ipython3",
   "version": "3.10.12"
  }
 },
 "nbformat": 4,
 "nbformat_minor": 4
}

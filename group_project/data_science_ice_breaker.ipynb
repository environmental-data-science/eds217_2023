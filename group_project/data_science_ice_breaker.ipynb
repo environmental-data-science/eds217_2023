{
 "cells": [
  {
   "cell_type": "markdown",
   "metadata": {},
   "source": [
    "# Data Science Ice Breaker\n",
    "\n",
    "## Central Park Squirrel Census\n",
    "\n",
    "![squirrel!](https://imgs.6sqft.com/wp-content/uploads/2018/10/03124715/squirrel-Central-Park.jpg)\n",
    "\n",
    "https://www.thesquirrelcensus.com"
   ]
  },
  {
   "cell_type": "markdown",
   "metadata": {},
   "source": [
    "### Explore the data\n",
    "\n",
    "The survey data was originally collected and stored in to files available at this link:\n",
    "\n",
    "[https://www.thesquirrelcensus.com/data](https://www.thesquirrelcensus.com/data)\n",
    "\n",
    "For this exercise, we will use an integrated `.csv` file that combines data and is a little more structured than the raw `.csv`. This file was downloaded from [kaggle.com](http://www.kaggle.com) at this link:\n",
    "\n",
    "[2018 survey data on Kaggle](https://www.kaggle.com/datasets/dominoweir/nyc-2018-squirrel-census)\n",
    "\n",
    "The downloaded file is already added to the class repository in the `data/` folder as as `2018_Central_Park_Squirrel_Census_-_Squirrel_Data.csv`. You can copy this folder to your new repository on your local machine\n",
    "\n"
   ]
  },
  {
   "cell_type": "markdown",
   "metadata": {},
   "source": [
    "### Setting up for some squirrely analyses:\n",
    "\n",
    "1. Create a short name for your group and a new repository for this exercise. Clone the repo to your local machines. \n",
    "\n",
    "1. Load the combined datafile (either using the url or from your repository's `../data` directory) using `pd.read_csv()`.\n",
    "\n",
    "1.  Use standard `df.info()`, `df.head()`, `df.describe()` to explore the data. \n",
    "\n",
    "1. Read over the user guide here to understand what the various columns contain.\n",
    "\n",
    "[Survey Data User Guide](https://www.dropbox.com/s/cs293zzz1li79nn/user-guide_data-sets_nyc-open-data-week-multi-park-squirrel-count.pdf?dl=0)\n",
    "\n",
    "Additional information on the survey and stories are available here:\n",
    "\n",
    "[https://www.thesquirrelcensus.com/data](https://www.thesquirrelcensus.com/data)\n"
   ]
  },
  {
   "cell_type": "markdown",
   "metadata": {},
   "source": [
    "## "
   ]
  }
 ],
 "metadata": {
  "kernelspec": {
   "display_name": "eds217_2023",
   "language": "python",
   "name": "python3"
  },
  "language_info": {
   "codemirror_mode": {
    "name": "ipython",
    "version": 3
   },
   "file_extension": ".py",
   "mimetype": "text/x-python",
   "name": "python",
   "nbconvert_exporter": "python",
   "pygments_lexer": "ipython3",
   "version": "3.10.12"
  },
  "orig_nbformat": 4
 },
 "nbformat": 4,
 "nbformat_minor": 2
}

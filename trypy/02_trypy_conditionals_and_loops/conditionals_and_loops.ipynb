{
 "cells": [
  {
   "cell_type": "raw",
   "id": "1759e0b1",
   "metadata": {},
   "source": [
    "---\n",
    "title: TryPy 2 - For Loops and Conditionals\n",
    "---"
   ]
  },
  {
   "cell_type": "markdown",
   "id": "5c363c1b",
   "metadata": {},
   "source": [
    "## Part 0. Setup Steps\n",
    "\n",
    "- Create a repo on GitHub named `eds217-trypy-02`\n",
    "- Clone to create a version-controlled project\n",
    "- Create some subfolder infrastructure (nbs, data, etc..)\n",
    "- Create a new python notebook."
   ]
  },
  {
   "cell_type": "markdown",
   "id": "24f3fc11",
   "metadata": {},
   "source": [
    "## Part 1. Real data\n",
    "\n",
    "Explore this [data package](https://portal.edirepository.org/nis/mapbrowse?packageid=knb-lter-arc.10341.5) from EDI, which contains a \"Data file describing the biogeochemistry of samples collected at various sites near Toolik Lake, North Slope of Alaska\". Familiarize yourself with the metadata (particularly, View full metadata > expand 'Data entities' to learn more about the variables in the dataset). \n",
    "\n",
    "**Citation:** Kling, G. 2016. Biogeochemistry data set for soil waters, streams, and lakes near Toolik on the North Slope of Alaska, 2011. ver 5. Environmental Data Initiative. https://doi.org/10.6073/pasta/362c8eeac5cad9a45288cf1b0d617ba7 \n",
    "\n",
    "1. Download the CSV containing the Toolik biogeochemistry data\n",
    "2. Take a look at it - how are missing values stored? Keep that in mind. \n",
    "3. Drop the CSV into your data folder of your project\n",
    "4. Create a new notebook document in VSCode, save in your nbs folder as `toolik_chem.ipynb`\n",
    "5. Import the `pandas` (as `pd`), `numpy` (as `np`), and `matplotlib.pyplot` (as `plt`) libraries into your first code cell.\n",
    "6. Read in the data as `toolik_biochem`. Remember, you'll want to specify here how `NA` values are stored. Use the `na_values` argument in your `pd.read_csv()` call to do that.\n"
   ]
  },
  {
   "cell_type": "markdown",
   "id": "c098783e",
   "metadata": {},
   "source": [
    "\n",
    "Copy and paste this code into a cell to create a clean_names function:\n",
    "\n",
    "```python\n",
    "\n",
    "def clean_names(df):\n",
    "        \"\"\"Convert CamelCase dataframe column names\n",
    "            to snake_case and lowercase the string\n",
    "        \n",
    "        df: Dataframe\n",
    "\n",
    "        Returns a new dataframe with updated columns\n",
    "\n",
    "        \"\"\"\n",
    "        def snakecase(s)\n",
    "            s = re.sub(\n",
    "            # Find a lower case letter or number (group 1)\n",
    "            # followed by an upper case letter (group 2):\n",
    "            '([a-z0-9])([A-Z])',\n",
    "            # Replace with - \n",
    "            # \\1, the lower case letter, \n",
    "            # _, an underscore, and\n",
    "            # \\2, the upper case letter:\n",
    "            r'\\1_\\2',\n",
    "            # Perform the search and replace in \n",
    "            # the string s:\n",
    "            s \n",
    "            )\n",
    "            s = re.sub(\n",
    "                    ' ', # Find a space\n",
    "                    '_', # Replace with an underscore\n",
    "                    s    # In the string\n",
    "                    ).lower()  # Convert to lower case\n",
    "            return s\n",
    "        df.columns = [snakecase(col) for col in df.columns]\n",
    "        return df\n",
    "\n",
    "```\n",
    "Run the cell to create the function, which you can use "
   ]
  },
  {
   "cell_type": "code",
   "execution_count": 1,
   "id": "444d1922",
   "metadata": {},
   "outputs": [
    {
     "ename": "FileNotFoundError",
     "evalue": "[Errno 2] No such file or directory: '../data/2011_Kling_Akchem.csv'",
     "output_type": "error",
     "traceback": [
      "\u001b[0;31m---------------------------------------------------------------------------\u001b[0m",
      "\u001b[0;31mFileNotFoundError\u001b[0m                         Traceback (most recent call last)",
      "Cell \u001b[0;32mIn[1], line 4\u001b[0m\n\u001b[1;32m      2\u001b[0m \u001b[39mimport\u001b[39;00m \u001b[39mpandas\u001b[39;00m \u001b[39mas\u001b[39;00m \u001b[39mpd\u001b[39;00m\n\u001b[1;32m      3\u001b[0m \u001b[39m# import pyjanitor\u001b[39;00m\n\u001b[0;32m----> 4\u001b[0m toolik_biochem \u001b[39m=\u001b[39m pd\u001b[39m.\u001b[39;49mread_csv(\n\u001b[1;32m      5\u001b[0m     \u001b[39m'\u001b[39;49m\u001b[39m../data/2011_Kling_Akchem.csv\u001b[39;49m\u001b[39m'\u001b[39;49m,\n\u001b[1;32m      6\u001b[0m     na_values\u001b[39m=\u001b[39;49m\u001b[39m\"\u001b[39;49m\u001b[39m.\u001b[39;49m\u001b[39m\"\u001b[39;49m)\u001b[39m.\u001b[39mclean_names()\n",
      "File \u001b[0;32m~/mambaforge/envs/eds217_2023/lib/python3.10/site-packages/pandas/io/parsers/readers.py:912\u001b[0m, in \u001b[0;36mread_csv\u001b[0;34m(filepath_or_buffer, sep, delimiter, header, names, index_col, usecols, dtype, engine, converters, true_values, false_values, skipinitialspace, skiprows, skipfooter, nrows, na_values, keep_default_na, na_filter, verbose, skip_blank_lines, parse_dates, infer_datetime_format, keep_date_col, date_parser, date_format, dayfirst, cache_dates, iterator, chunksize, compression, thousands, decimal, lineterminator, quotechar, quoting, doublequote, escapechar, comment, encoding, encoding_errors, dialect, on_bad_lines, delim_whitespace, low_memory, memory_map, float_precision, storage_options, dtype_backend)\u001b[0m\n\u001b[1;32m    899\u001b[0m kwds_defaults \u001b[39m=\u001b[39m _refine_defaults_read(\n\u001b[1;32m    900\u001b[0m     dialect,\n\u001b[1;32m    901\u001b[0m     delimiter,\n\u001b[0;32m   (...)\u001b[0m\n\u001b[1;32m    908\u001b[0m     dtype_backend\u001b[39m=\u001b[39mdtype_backend,\n\u001b[1;32m    909\u001b[0m )\n\u001b[1;32m    910\u001b[0m kwds\u001b[39m.\u001b[39mupdate(kwds_defaults)\n\u001b[0;32m--> 912\u001b[0m \u001b[39mreturn\u001b[39;00m _read(filepath_or_buffer, kwds)\n",
      "File \u001b[0;32m~/mambaforge/envs/eds217_2023/lib/python3.10/site-packages/pandas/io/parsers/readers.py:577\u001b[0m, in \u001b[0;36m_read\u001b[0;34m(filepath_or_buffer, kwds)\u001b[0m\n\u001b[1;32m    574\u001b[0m _validate_names(kwds\u001b[39m.\u001b[39mget(\u001b[39m\"\u001b[39m\u001b[39mnames\u001b[39m\u001b[39m\"\u001b[39m, \u001b[39mNone\u001b[39;00m))\n\u001b[1;32m    576\u001b[0m \u001b[39m# Create the parser.\u001b[39;00m\n\u001b[0;32m--> 577\u001b[0m parser \u001b[39m=\u001b[39m TextFileReader(filepath_or_buffer, \u001b[39m*\u001b[39;49m\u001b[39m*\u001b[39;49mkwds)\n\u001b[1;32m    579\u001b[0m \u001b[39mif\u001b[39;00m chunksize \u001b[39mor\u001b[39;00m iterator:\n\u001b[1;32m    580\u001b[0m     \u001b[39mreturn\u001b[39;00m parser\n",
      "File \u001b[0;32m~/mambaforge/envs/eds217_2023/lib/python3.10/site-packages/pandas/io/parsers/readers.py:1407\u001b[0m, in \u001b[0;36mTextFileReader.__init__\u001b[0;34m(self, f, engine, **kwds)\u001b[0m\n\u001b[1;32m   1404\u001b[0m     \u001b[39mself\u001b[39m\u001b[39m.\u001b[39moptions[\u001b[39m\"\u001b[39m\u001b[39mhas_index_names\u001b[39m\u001b[39m\"\u001b[39m] \u001b[39m=\u001b[39m kwds[\u001b[39m\"\u001b[39m\u001b[39mhas_index_names\u001b[39m\u001b[39m\"\u001b[39m]\n\u001b[1;32m   1406\u001b[0m \u001b[39mself\u001b[39m\u001b[39m.\u001b[39mhandles: IOHandles \u001b[39m|\u001b[39m \u001b[39mNone\u001b[39;00m \u001b[39m=\u001b[39m \u001b[39mNone\u001b[39;00m\n\u001b[0;32m-> 1407\u001b[0m \u001b[39mself\u001b[39m\u001b[39m.\u001b[39m_engine \u001b[39m=\u001b[39m \u001b[39mself\u001b[39;49m\u001b[39m.\u001b[39;49m_make_engine(f, \u001b[39mself\u001b[39;49m\u001b[39m.\u001b[39;49mengine)\n",
      "File \u001b[0;32m~/mambaforge/envs/eds217_2023/lib/python3.10/site-packages/pandas/io/parsers/readers.py:1661\u001b[0m, in \u001b[0;36mTextFileReader._make_engine\u001b[0;34m(self, f, engine)\u001b[0m\n\u001b[1;32m   1659\u001b[0m     \u001b[39mif\u001b[39;00m \u001b[39m\"\u001b[39m\u001b[39mb\u001b[39m\u001b[39m\"\u001b[39m \u001b[39mnot\u001b[39;00m \u001b[39min\u001b[39;00m mode:\n\u001b[1;32m   1660\u001b[0m         mode \u001b[39m+\u001b[39m\u001b[39m=\u001b[39m \u001b[39m\"\u001b[39m\u001b[39mb\u001b[39m\u001b[39m\"\u001b[39m\n\u001b[0;32m-> 1661\u001b[0m \u001b[39mself\u001b[39m\u001b[39m.\u001b[39mhandles \u001b[39m=\u001b[39m get_handle(\n\u001b[1;32m   1662\u001b[0m     f,\n\u001b[1;32m   1663\u001b[0m     mode,\n\u001b[1;32m   1664\u001b[0m     encoding\u001b[39m=\u001b[39;49m\u001b[39mself\u001b[39;49m\u001b[39m.\u001b[39;49moptions\u001b[39m.\u001b[39;49mget(\u001b[39m\"\u001b[39;49m\u001b[39mencoding\u001b[39;49m\u001b[39m\"\u001b[39;49m, \u001b[39mNone\u001b[39;49;00m),\n\u001b[1;32m   1665\u001b[0m     compression\u001b[39m=\u001b[39;49m\u001b[39mself\u001b[39;49m\u001b[39m.\u001b[39;49moptions\u001b[39m.\u001b[39;49mget(\u001b[39m\"\u001b[39;49m\u001b[39mcompression\u001b[39;49m\u001b[39m\"\u001b[39;49m, \u001b[39mNone\u001b[39;49;00m),\n\u001b[1;32m   1666\u001b[0m     memory_map\u001b[39m=\u001b[39;49m\u001b[39mself\u001b[39;49m\u001b[39m.\u001b[39;49moptions\u001b[39m.\u001b[39;49mget(\u001b[39m\"\u001b[39;49m\u001b[39mmemory_map\u001b[39;49m\u001b[39m\"\u001b[39;49m, \u001b[39mFalse\u001b[39;49;00m),\n\u001b[1;32m   1667\u001b[0m     is_text\u001b[39m=\u001b[39;49mis_text,\n\u001b[1;32m   1668\u001b[0m     errors\u001b[39m=\u001b[39;49m\u001b[39mself\u001b[39;49m\u001b[39m.\u001b[39;49moptions\u001b[39m.\u001b[39;49mget(\u001b[39m\"\u001b[39;49m\u001b[39mencoding_errors\u001b[39;49m\u001b[39m\"\u001b[39;49m, \u001b[39m\"\u001b[39;49m\u001b[39mstrict\u001b[39;49m\u001b[39m\"\u001b[39;49m),\n\u001b[1;32m   1669\u001b[0m     storage_options\u001b[39m=\u001b[39;49m\u001b[39mself\u001b[39;49m\u001b[39m.\u001b[39;49moptions\u001b[39m.\u001b[39;49mget(\u001b[39m\"\u001b[39;49m\u001b[39mstorage_options\u001b[39;49m\u001b[39m\"\u001b[39;49m, \u001b[39mNone\u001b[39;49;00m),\n\u001b[1;32m   1670\u001b[0m )\n\u001b[1;32m   1671\u001b[0m \u001b[39massert\u001b[39;00m \u001b[39mself\u001b[39m\u001b[39m.\u001b[39mhandles \u001b[39mis\u001b[39;00m \u001b[39mnot\u001b[39;00m \u001b[39mNone\u001b[39;00m\n\u001b[1;32m   1672\u001b[0m f \u001b[39m=\u001b[39m \u001b[39mself\u001b[39m\u001b[39m.\u001b[39mhandles\u001b[39m.\u001b[39mhandle\n",
      "File \u001b[0;32m~/mambaforge/envs/eds217_2023/lib/python3.10/site-packages/pandas/io/common.py:859\u001b[0m, in \u001b[0;36mget_handle\u001b[0;34m(path_or_buf, mode, encoding, compression, memory_map, is_text, errors, storage_options)\u001b[0m\n\u001b[1;32m    854\u001b[0m \u001b[39melif\u001b[39;00m \u001b[39misinstance\u001b[39m(handle, \u001b[39mstr\u001b[39m):\n\u001b[1;32m    855\u001b[0m     \u001b[39m# Check whether the filename is to be opened in binary mode.\u001b[39;00m\n\u001b[1;32m    856\u001b[0m     \u001b[39m# Binary mode does not support 'encoding' and 'newline'.\u001b[39;00m\n\u001b[1;32m    857\u001b[0m     \u001b[39mif\u001b[39;00m ioargs\u001b[39m.\u001b[39mencoding \u001b[39mand\u001b[39;00m \u001b[39m\"\u001b[39m\u001b[39mb\u001b[39m\u001b[39m\"\u001b[39m \u001b[39mnot\u001b[39;00m \u001b[39min\u001b[39;00m ioargs\u001b[39m.\u001b[39mmode:\n\u001b[1;32m    858\u001b[0m         \u001b[39m# Encoding\u001b[39;00m\n\u001b[0;32m--> 859\u001b[0m         handle \u001b[39m=\u001b[39m \u001b[39mopen\u001b[39;49m(\n\u001b[1;32m    860\u001b[0m             handle,\n\u001b[1;32m    861\u001b[0m             ioargs\u001b[39m.\u001b[39;49mmode,\n\u001b[1;32m    862\u001b[0m             encoding\u001b[39m=\u001b[39;49mioargs\u001b[39m.\u001b[39;49mencoding,\n\u001b[1;32m    863\u001b[0m             errors\u001b[39m=\u001b[39;49merrors,\n\u001b[1;32m    864\u001b[0m             newline\u001b[39m=\u001b[39;49m\u001b[39m\"\u001b[39;49m\u001b[39m\"\u001b[39;49m,\n\u001b[1;32m    865\u001b[0m         )\n\u001b[1;32m    866\u001b[0m     \u001b[39melse\u001b[39;00m:\n\u001b[1;32m    867\u001b[0m         \u001b[39m# Binary mode\u001b[39;00m\n\u001b[1;32m    868\u001b[0m         handle \u001b[39m=\u001b[39m \u001b[39mopen\u001b[39m(handle, ioargs\u001b[39m.\u001b[39mmode)\n",
      "\u001b[0;31mFileNotFoundError\u001b[0m: [Errno 2] No such file or directory: '../data/2011_Kling_Akchem.csv'"
     ]
    }
   ],
   "source": [
    "#| echo: false\n",
    "import pandas as pd\n",
    "# import pyjanitor\n",
    "toolik_biochem = pd.read_csv(\n",
    "    '../data/2011_Kling_Akchem.csv',\n",
    "    na_values=\".\").clean_names()"
   ]
  },
  {
   "cell_type": "markdown",
   "id": "9efce717",
   "metadata": {},
   "source": [
    "7. Create a subset of the data that contains only observations from the \"Toolik Inlet\" site, and that only contains the variables (columns) for pH, dissolved organic carbon (DOC), and total dissolved nitrogen (TDN). Store this subset as `inlet_biochem`. Make sure to LOOK AT the subset you've created. "
   ]
  },
  {
   "cell_type": "code",
   "execution_count": null,
   "id": "f66b6ee1",
   "metadata": {},
   "outputs": [],
   "source": [
    "#| echo: false\n",
    "valid = toolik_biochem[\"site\"] == \"Toolik Inlet\"\n",
    "inlet_biochem = toolik_biochem[valid][[\n",
    "    'ph','doc_um','tdn_um']]"
   ]
  },
  {
   "cell_type": "markdown",
   "id": "94724d80",
   "metadata": {},
   "source": [
    "8. Find the mean value of each column in `inlet_biochem` 2 different ways: \n",
    "\n",
    "a. Write a for loop from scratch to calculate the mean for each\n",
    "b. Use *one other method* (e.g. `.mean()`, or `.apply()`) to find the mean for each column."
   ]
  },
  {
   "cell_type": "code",
   "execution_count": null,
   "id": "656729db",
   "metadata": {},
   "outputs": [],
   "source": [
    "#| echo: false\n",
    "import numpy as np\n",
    "\n",
    "# Strategy a:\n",
    "print(\"Using for loop:\")\n",
    "for col in inlet_biochem.columns:\n",
    "    mean_val = np.nanmean(inlet_biochem[col])\n",
    "    print(f\"col {col}: {mean_val:.2f}\")\n",
    "\n",
    "# Strategy b: \n",
    "print(\"Using list comprehension:\")\n",
    "[print(\n",
    "    f\"col {col}:\",\n",
    "    f\"{np.nanmean(inlet_biochem[col]):.2f}\")\n",
    " for col in inlet_biochem.columns]\n",
    "\n",
    "# Strategy c: \n",
    "print(\"Using df.mean()\")\n",
    "print(inlet_biochem.mean())\n",
    "\n",
    "# Strategy d: \n",
    "print(\"Using .apply()\")\n",
    "print(inlet_biochem.apply(np.nanmean))"
   ]
  },
  {
   "cell_type": "markdown",
   "id": "f06623ab",
   "metadata": {},
   "source": [
    "### Save, stage, commit, pull, push!\n",
    "\n",
    "## END activities"
   ]
  }
 ],
 "metadata": {
  "kernelspec": {
   "display_name": "eds217_2023",
   "language": "python",
   "name": "python3"
  },
  "language_info": {
   "codemirror_mode": {
    "name": "ipython",
    "version": 3
   },
   "file_extension": ".py",
   "mimetype": "text/x-python",
   "name": "python",
   "nbconvert_exporter": "python",
   "pygments_lexer": "ipython3",
   "version": "3.10.12"
  }
 },
 "nbformat": 4,
 "nbformat_minor": 5
}

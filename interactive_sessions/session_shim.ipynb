{
 "cells": [
  {
   "cell_type": "code",
   "execution_count": 1,
   "metadata": {},
   "outputs": [],
   "source": [
    "import os\n",
    "import shutil\n",
    "import requests\n",
    "from session_shim import (\n",
    "    move_file_if_new_name_doesnt_exist,\n",
    "    download_shim_file,\n",
    "    session_shim)"
   ]
  },
  {
   "cell_type": "markdown",
   "metadata": {},
   "source": [
    "## Steps\n",
    "\n",
    "#### 0. Generate the urls and filenames for this shim\n",
    "\n",
    "We define a `sessions` variable that contains a list of the sessions to update.\n",
    "\n",
    "#### 1. Move the current session to an untracked file name\n",
    "\n",
    "For each session, move the current file to a new untracked filename\n",
    "\n",
    ".gitignore includes `no_track*`, so any file that starts with this file name will be untracked in the repo.\n",
    "\n",
    "#### 2. Download the new file(s) from the `eds217_2023` repo\n",
    "\n",
    "Use the `shim_url` to update the local file with the version on the repo."
   ]
  },
  {
   "cell_type": "code",
   "execution_count": 3,
   "metadata": {},
   "outputs": [
    {
     "name": "stdout",
     "output_type": "stream",
     "text": [
      "Moved '3-1_numpy.ipynb' to 'no_track_3-1_numpy.ipynb'.\n",
      "Downloaded new content to '3-1_numpy.ipynb'.\n",
      "Error: Destination file 'no_track_4-1_pandas.ipynb' already exists.\n",
      "Downloaded new content to '4-1_pandas.ipynb'.\n"
     ]
    }
   ],
   "source": [
    "sessions = ['3-1_numpy','4-1_pandas']\n",
    "for session in sessions:\n",
    "    shim_url, old_filename, new_filename = session_shim(session)\n",
    "    move_file_if_new_name_doesnt_exist(old_filename, new_filename)\n",
    "    download_shim_file(shim_url, old_filename, new_filename)"
   ]
  },
  {
   "cell_type": "code",
   "execution_count": null,
   "metadata": {},
   "outputs": [],
   "source": []
  }
 ],
 "metadata": {
  "kernelspec": {
   "display_name": "eds217_2023",
   "language": "python",
   "name": "python3"
  },
  "language_info": {
   "codemirror_mode": {
    "name": "ipython",
    "version": 3
   },
   "file_extension": ".py",
   "mimetype": "text/x-python",
   "name": "python",
   "nbconvert_exporter": "python",
   "pygments_lexer": "ipython3",
   "version": "3.10.12"
  },
  "orig_nbformat": 4
 },
 "nbformat": 4,
 "nbformat_minor": 2
}

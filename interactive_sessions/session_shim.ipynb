{
 "cells": [
  {
   "cell_type": "code",
   "execution_count": 1,
   "metadata": {},
   "outputs": [],
   "source": [
    "import os\n",
    "import shutil\n",
    "import requests"
   ]
  },
  {
   "cell_type": "code",
   "execution_count": 3,
   "metadata": {},
   "outputs": [],
   "source": [
    "\n",
    "def move_file_if_new_name_doesnt_exist(old_path, new_path):\n",
    "    \"\"\" Rename a file, but only if new filename doesn't exist\n",
    "\n",
    "    Args:\n",
    "        old_path: Current file name\n",
    "        new_path: New file name\n",
    "    \"\"\"\n",
    "    # Check if the old file exists\n",
    "    if not os.path.exists(old_path):\n",
    "        print(f\"Error: Source file '{old_path}' doesn't exist.\")\n",
    "        return\n",
    "    \n",
    "    # Check if the destination file exists\n",
    "    if os.path.exists(new_path):\n",
    "        print(f\"Error: Destination file '{new_path}' already exists.\")\n",
    "        return\n",
    "    \n",
    "    # Move/Rename the file\n",
    "    shutil.move(old_path, new_path)\n",
    "    print(f\"Moved '{old_path}' to '{new_path}'.\")\n",
    "\n",
    "def download_file(url, old_filename, new_filename):\n",
    "    \"\"\" Download a new file, but only if a backup exists\n",
    "\n",
    "    \"\"\"\n",
    "    # Check if the new filename already exists\n",
    "    if not os.path.exists(new_filename):\n",
    "        print(f\"Error: '{new_filename}' doesn't exist. Aborting download to avoid overwriting '{old_filename}'.\")\n",
    "        return\n",
    "    \n",
    "    # Download the file from the given URL\n",
    "    response = requests.get(url, stream=True)\n",
    "    if response.status_code == 200:\n",
    "        with open(old_filename, 'wb') as file:\n",
    "            for chunk in response.iter_content(chunk_size=1024):\n",
    "                file.write(chunk)\n",
    "        print(f\"Downloaded new content to '{old_filename}'.\")\n",
    "    else:\n",
    "        print(f\"Error: Failed to download the file from {url}. Status code: {response.status_code}\")\n",
    "\n"
   ]
  },
  {
   "cell_type": "markdown",
   "metadata": {},
   "source": [
    "# 1. Move the current session to an untracked file name\n",
    "\n",
    ".gitignore includes `no_track*`, so any file that starts with this file name will be untracked in the repo."
   ]
  },
  {
   "cell_type": "code",
   "execution_count": 4,
   "metadata": {},
   "outputs": [
    {
     "name": "stdout",
     "output_type": "stream",
     "text": [
      "Moved '4-1_pandas.ipynb' to 'no_track_4-1_pandas.ipynb'.\n",
      "Downloaded new content to '4-1_pandas.ipynb'.\n"
     ]
    }
   ],
   "source": [
    "\n",
    "shim_url = \"https://raw.githubusercontent.com/\" \\\n",
    "    \"environmental-data-science/eds217_2023/\" \\\n",
    "    \"main/interactive_sessions/4-1_pandas.ipynb\"\n",
    "old_filename = \"4-1_pandas.ipynb\"\n",
    "new_filename = \"no_track_4-1_pandas.ipynb\"\n",
    "move_file_if_new_name_doesnt_exist(old_filename, new_filename)\n",
    "download_file(shim_url, old_filename, new_filename)"
   ]
  },
  {
   "cell_type": "markdown",
   "metadata": {},
   "source": [
    "# 2. Download the new file from the `eds217_2023` repo"
   ]
  },
  {
   "cell_type": "code",
   "execution_count": null,
   "metadata": {},
   "outputs": [],
   "source": [
    "\n",
    "# Example usage\n",
    "url = \"https://example.com/path_to_new_version_of_file.txt\"\n",
    "old_filename = \"path_to_old_file.txt\"\n",
    "new_filename = \"path_to_new_file.txt\"\n",
    "download_file(url, old_filename, new_filename)\n"
   ]
  }
 ],
 "metadata": {
  "kernelspec": {
   "display_name": "eds217_2023",
   "language": "python",
   "name": "python3"
  },
  "language_info": {
   "codemirror_mode": {
    "name": "ipython",
    "version": 3
   },
   "file_extension": ".py",
   "mimetype": "text/x-python",
   "name": "python",
   "nbconvert_exporter": "python",
   "pygments_lexer": "ipython3",
   "version": "3.10.12"
  },
  "orig_nbformat": 4
 },
 "nbformat": 4,
 "nbformat_minor": 2
}

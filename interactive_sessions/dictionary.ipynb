{
 "cells": [
  {
   "cell_type": "code",
   "execution_count": 5,
   "metadata": {},
   "outputs": [
    {
     "name": "stdout",
     "output_type": "stream",
     "text": [
      "{3: 'the number three', <built-in function len>: 'the function len'}\n"
     ]
    }
   ],
   "source": [
    "# what can be used as a key for a dictionary?\n",
    "\n",
    "my_dict = dict({\n",
    "    # what can we get away with?\n",
    "    3: 'the number three',\n",
    "    len: 'the function len'\n",
    "})\n",
    "\n",
    "print(my_dict)\n"
   ]
  },
  {
   "cell_type": "code",
   "execution_count": 12,
   "metadata": {},
   "outputs": [
    {
     "name": "stdout",
     "output_type": "stream",
     "text": [
      "{'a': 4, 'b': {'a': 3}}\n"
     ]
    }
   ],
   "source": [
    "# what can be used as a value for a dictionary?\n",
    "\n",
    "my_dict = dict({\n",
    "    # what can we get away with?\n",
    "    'a': 3,\n",
    "    'b': dict({'a': 3}),\n",
    "    'a': 4\n",
    "})\n",
    "\n",
    "print(my_dict)"
   ]
  }
 ],
 "metadata": {
  "kernelspec": {
   "display_name": "eds217_2023",
   "language": "python",
   "name": "python3"
  },
  "language_info": {
   "codemirror_mode": {
    "name": "ipython",
    "version": 3
   },
   "file_extension": ".py",
   "mimetype": "text/x-python",
   "name": "python",
   "nbconvert_exporter": "python",
   "pygments_lexer": "ipython3",
   "version": "3.10.12"
  },
  "orig_nbformat": 4
 },
 "nbformat": 4,
 "nbformat_minor": 2
}

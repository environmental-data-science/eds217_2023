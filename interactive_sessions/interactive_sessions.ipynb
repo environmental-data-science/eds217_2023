{
 "cells": [
  {
   "cell_type": "markdown",
   "metadata": {},
   "source": [
    "# Interactive Sessions\n",
    "\n",
    "\n",
    "### [0-1 - Ready, Set, Python!](0-1_ready_set_python.ipynb)\n",
    "\n",
    "### [Entry Survey Responses](survey_responses.ipynb)\n",
    "\n",
    "### [0-2 - Hello, Data Science](0-2_hello_data_science.ipynb)\n",
    "\n",
    "### [1-1 - Variables and Operators](1-1_variables.ipynb)\n",
    "\n",
    "### [1-2 - Lists and Indexing](1-2_lists.ipynb)\n",
    "\n",
    "### [2-1 - Control Flow Statements](2-1_control_flow_statements.ipynb)\n",
    "\n",
    "### [2-2 - Structured Data](2-2_structured_data.ipynb)\n",
    "\n",
    "### [3-1 - Numpy](3-1_numpy.ipynb)\n",
    "\n",
    "### [4-1 - Pandas](4-1_pandas.ipynb)\n",
    "\n",
    "### [5-1 - Matplolib](5-1_matplotlib.ipynb)\n"
   ]
  },
  {
   "cell_type": "markdown",
   "metadata": {},
   "source": []
  }
 ],
 "metadata": {
  "kernelspec": {
   "display_name": "eds217_2023",
   "language": "python",
   "name": "python3"
  },
  "language_info": {
   "codemirror_mode": {
    "name": "ipython",
    "version": 3
   },
   "file_extension": ".py",
   "mimetype": "text/x-python",
   "name": "python",
   "nbconvert_exporter": "python",
   "pygments_lexer": "ipython3",
   "version": "3.10.12"
  },
  "orig_nbformat": 4
 },
 "nbformat": 4,
 "nbformat_minor": 2
}

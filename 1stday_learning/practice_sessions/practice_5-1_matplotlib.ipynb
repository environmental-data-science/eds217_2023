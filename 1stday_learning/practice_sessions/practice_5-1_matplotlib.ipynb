{
 "cells": [
  {
   "cell_type": "markdown",
   "metadata": {},
   "source": [
    "| [⬅️ Previous Session](practice_4-1_pandas.ipynb) | [🏠 Course Home](../index.ipynb)\n",
    "\n",
    "# Session 5-1: Matplotlib 📈\n",
    "\n",
    "![mpl](./assets/mpl.png)\n",
    "\n",
    "\n",
    "\n",
    "**Don't forget to start your notebook with a cell containing the import statements you need for the session.**"
   ]
  },
  {
   "cell_type": "code",
   "execution_count": 1,
   "metadata": {},
   "outputs": [],
   "source": [
    "import pandas as pd\n",
    "import matplotlib.pyplot as plt\n",
    "import matplotlib.dates as mdates"
   ]
  },
  {
   "cell_type": "markdown",
   "metadata": {},
   "source": [
    "## 📚  <b> Practice 1. </b> \n",
    "Recreate the plot below. You do not need to match the colors exactly, but do not rely on <span class=\"codeb\">matplotlib</span> defaults. Note: do not worry about the equation(s); these are included to indicate which functions to plot.\n",
    "\n",
    "<img src=\"./assets/mpl_prac1.png\" alt=\"prac1\" width=\"600\"/>"
   ]
  },
  {
   "cell_type": "code",
   "execution_count": null,
   "metadata": {},
   "outputs": [],
   "source": []
  },
  {
   "cell_type": "markdown",
   "metadata": {},
   "source": [
    "## 📚  <b> Practice 2. </b> \n",
    "Recreate the plot below. You do not need to match the colors exactly, but do not rely on <span class=\"codeb\">matplotlib</span> defaults. Note: do not worry about the equation(s); these are included to indicate which functions to plot.\n",
    "\n",
    "<img src=\"./assets/mpl_prac2.png\" alt=\"prac2\" width=\"600\"/>"
   ]
  },
  {
   "cell_type": "code",
   "execution_count": null,
   "metadata": {},
   "outputs": [],
   "source": []
  },
  {
   "cell_type": "markdown",
   "metadata": {},
   "source": [
    "## 📚  <b> Practice 3. </b> \n",
    "\n",
    "Import the data from `./data/BSRN_data.csv` and plot the temperature and relative humidity over the month of October 2019 at the BSRN station. Be sure to format the timestamps and include axis labels, a title, and a legend, if necessary.\n",
    "\n"
   ]
  },
  {
   "cell_type": "code",
   "execution_count": null,
   "metadata": {},
   "outputs": [],
   "source": []
  },
  {
   "cell_type": "markdown",
   "metadata": {},
   "source": [
    "## 📚 Practice 4.\n",
    "\n",
    "Saturation vapor pressure, \\( $ e^*(T_a) $ \\), is the maximum pressure of water vapor that can exist in equilibrium above a flat plane of water at a given temperature. It can be calculated from the Tetens equation:\n",
    "\n",
    "$$ e^{*}(T_{a}) = a \\times exp({\\frac{b \\cdot T_{a}}{T_{a} + c}}) $$\n",
    "\n",
    "where $ T_a $ is the air temperature in °C, $ a = 0.611  $ kPa,  $ b = 17.502  $, and  $ c = 240.97 °C  $.\n",
    "\n",
    "1. Calculate \\( $ e^*(T_a) $ \\) in kPa for all temperatures in `bsrn`.\n",
    "1. Plot temperature vs. saturation vapor pressure for the BSRN station. Be sure to format your plot appropriately and include axis labels, a title, and a legend, if necessary.\n",
    "1. Compare your plot to Figure 3-1 in Campbell and Norman (1998), included below. Do they look more or less the same?\n",
    "\n",
    "![cn](./assets/campbell_norman_fig3-1.png)\n"
   ]
  },
  {
   "cell_type": "code",
   "execution_count": null,
   "metadata": {},
   "outputs": [],
   "source": []
  },
  {
   "cell_type": "markdown",
   "metadata": {},
   "source": [
    "## 📚  <b> Practice 5. </b> \n",
    "The difference between saturation vapor pressure and ambient air pressure is called vapor pressure deficit, $\\textit{VPD}$. $\\textit{VPD}$ can be calculated from saturation vapor pressure and relative humidity, $h_r$, as follows:\n",
    "$$ \\textit{VPD} \\, = \\, e^*(T_a) \\cdot (1 \\, - \\, h_r)$$\n",
    "where $h_r$ is expressed as a fraction.\n",
    "\n",
    "1. Calculate the vapor pressure deficit for the BSRN data.\n",
    "1. Calculate the mean hourly $RH$ and $\\textit{VPD}$ over the entire month.\n",
    "1. Plot $RH$ and $\\textit{VPD}$ as a function of time of day. (for extra python points, try plotting both variables on one plot using [ax.twinx()](https://matplotlib.org/stable/gallery/subplots_axes_and_figures/two_scales.html))\n",
    "1. How does relative humidity vary throughout the day? Why?\n",
    "1. Compare your plot(s) to Figure 3-3 in Campbell and Norman (1998). How do the values of $e^*(T_a)$ and $\\textit{VPD}$ for the BSRN station compare to those at constant vapor pressure in Figure 3-3?\n",
    "\n",
    "![cn](./assets/campbell_norman_fig3-3.png)\n"
   ]
  },
  {
   "cell_type": "code",
   "execution_count": null,
   "metadata": {},
   "outputs": [],
   "source": []
  },
  {
   "cell_type": "markdown",
   "metadata": {},
   "source": [
    "<hr style=\"border-top: 1px solid gray; margin-top: 24px; margin-bottom: 1px\"></hr>"
   ]
  }
 ],
 "metadata": {
  "kernelspec": {
   "display_name": "Python 3 (ipykernel)",
   "language": "python",
   "name": "python3"
  },
  "language_info": {
   "codemirror_mode": {
    "name": "ipython",
    "version": 3
   },
   "file_extension": ".py",
   "mimetype": "text/x-python",
   "name": "python",
   "nbconvert_exporter": "python",
   "pygments_lexer": "ipython3",
   "version": "3.10.12"
  }
 },
 "nbformat": 4,
 "nbformat_minor": 4
}

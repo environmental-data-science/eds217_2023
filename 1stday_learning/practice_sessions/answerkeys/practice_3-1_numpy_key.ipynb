{
 "cells": [
  {
   "cell_type": "markdown",
   "metadata": {},
   "source": [
    "# Practice 3-1: Introduction to NumPy"
   ]
  },
  {
   "cell_type": "markdown",
   "metadata": {},
   "source": [
    "\n",
    "<div class=\"run\">\n",
    "    ▶️ <b> Run the cell below. </b>\n",
    "</div>\n"
   ]
  },
  {
   "cell_type": "code",
   "execution_count": 2,
   "metadata": {},
   "outputs": [],
   "source": [
    "# Imports\n",
    "import numpy as np"
   ]
  },
  {
   "cell_type": "markdown",
   "metadata": {},
   "source": [
    "\n",
    "## 📚  **Practice 1.**  \n",
    "Create the following arrays and assign the corresponding variable names:\n",
    "\n",
    "1. `a`  \n",
    "    $$\n",
    "    \\begin{bmatrix}\n",
    "        4 & 5 & 0 & 12 & -1 \\\\\n",
    "        8 & -21 & -4 & 6 & 3 \\\\\n",
    "        17 & 1 & -13 & 7 & 0\n",
    "    \\end{bmatrix}\n",
    "    $$\n",
    "\n",
    "2. `b`  \n",
    "    $$\n",
    "    \\begin{bmatrix}\n",
    "        1.0 & 2.7 & 0 & 0.188 & 4.07 & 0.24\n",
    "    \\end{bmatrix}\n",
    "    $$\n",
    "\n",
    "3. `c`  \n",
    "    $$\n",
    "    \\begin{bmatrix}\n",
    "        0.4 \\\\\n",
    "        0.8 \\\\\n",
    "        1.2 \\\\\n",
    "        1.6 \\\\\n",
    "        2.0 \\\\\n",
    "        2.4\n",
    "    \\end{bmatrix}\n",
    "    $$\n"
   ]
  },
  {
   "cell_type": "code",
   "execution_count": 3,
   "metadata": {},
   "outputs": [],
   "source": [
    "# Create 3x5 array of integers\n",
    "a = np.array([[4, 5, 0, 12, -1], [8, -21, -4, 6, 3], [17, 1, -13, 7, 0]])\n",
    "\n",
    "# Create a 1x6 array of floats\n",
    "b = np.array([[1.0, 2.7, 0, 0.188, 4.07, 0.24]])\n",
    "\n",
    "# Create a one-d array with 6 elements\n",
    "c = np.array([0.4, 0.8, 1.2, 1.6, 2.0, 2.4])"
   ]
  },
  {
   "cell_type": "markdown",
   "metadata": {},
   "source": [
    "## 📚  <b> Practice 2. </b> \n",
    "<ol class=\"alpha\">\n",
    "<li> Create a new array <code>d</code> of integers the multiples of 3 between 0 and 100.</li>\n",
    "<li> Create an array <code>f</code> 10 evenly spaced elements between 0 and 2.</li> \n",
    "<li> Re-create array <code>c</code> from Practice 1c using a function. Assign this to variable name <code>g</code>. </li>\n",
    "</ol>    "
   ]
  },
  {
   "cell_type": "code",
   "execution_count": 4,
   "metadata": {},
   "outputs": [],
   "source": [
    "# a.\n",
    "d = np.arange(1,100,3)\n",
    "# b. \n",
    "f = np.linspace(0,2,10)\n",
    "# c.\n",
    "g = np.linspace(0.4,2.4,6)"
   ]
  },
  {
   "cell_type": "markdown",
   "metadata": {},
   "source": [
    "## 📚  <b> Practice 3. </b> Assign the following to variables:\n",
    "<ol class=\"alpha\">\n",
    "    <li> A 5x3 array of ones. </li>\n",
    "    <li> A one-dimensional array of 6 zeros. </li> \n",
    "    <li> A 7x7 identity array. </li>\n",
    "    <li> A random 10x10 array. </li>\n",
    "</ol>"
   ]
  },
  {
   "cell_type": "code",
   "execution_count": 5,
   "metadata": {},
   "outputs": [],
   "source": [
    "# a. \n",
    "ones = np.ones((5,3))\n",
    "# b.\n",
    "zeros6 = np.zeros(6)\n",
    "# c.\n",
    "eye = np.eye(7)\n",
    "# d.\n",
    "rand100 = np.random.rand(10,10)"
   ]
  },
  {
   "cell_type": "markdown",
   "metadata": {},
   "source": [
    "## 📚  <b> Practice 4. </b> \n",
    "Use array methods and the array you created in Practice 2a (<code>d</code>) to count the number of multiples of 3 between 0 and 100.\n"
   ]
  },
  {
   "cell_type": "code",
   "execution_count": 6,
   "metadata": {},
   "outputs": [
    {
     "data": {
      "text/plain": [
       "33"
      ]
     },
     "execution_count": 6,
     "metadata": {},
     "output_type": "execute_result"
    }
   ],
   "source": [
    "# Print size of d\n",
    "d.size"
   ]
  },
  {
   "cell_type": "markdown",
   "metadata": {},
   "source": [
    "\n",
    "## 📚  <b> Practice 5. </b> Using the array you created in Practice 3d,\n",
    "<ol class=\"alpha\">\n",
    "    <li> Print all the elements in column 4. </li>\n",
    "    <li> Print all the elements in row 7. </li>\n",
    "    <li> Extract the 4x4 subarray at the center of the array and assign it as a new variable. </li>\n",
    "    <li> Print the last two values in column 10. </li>\n",
    "</ol>"
   ]
  },
  {
   "cell_type": "code",
   "execution_count": 7,
   "metadata": {},
   "outputs": [
    {
     "name": "stdout",
     "output_type": "stream",
     "text": [
      "[0.47355526 0.16640376 0.48631518 0.42032605 0.12026176 0.35326962\n",
      " 0.70223167 0.45058564 0.921611   0.26428948]\n",
      "[0.12746749 0.86608784 0.35305607 0.70223167 0.85187631 0.7585961\n",
      " 0.21004781 0.54591833 0.06646384 0.74774   ]\n",
      "[[0.42032605 0.37801466 0.83169814 0.26346432]\n",
      " [0.12026176 0.22708852 0.72144037 0.0987514 ]\n",
      " [0.35326962 0.10750686 0.88008533 0.43263521]\n",
      " [0.70223167 0.85187631 0.7585961  0.21004781]]\n",
      "[0.70838202 0.41093916]\n"
     ]
    }
   ],
   "source": [
    "# a. Print all the elements in column 4\n",
    "print(rand100[:,3])\n",
    "\n",
    "# b. Print all the elements in row 7\n",
    "print(rand100[6])\n",
    "\n",
    "# c. Extract the 4x4 subarray at the center of the array and assign it as a new variable.\n",
    "print(rand100[3:7,3:7])\n",
    "\n",
    "# d. Print the last two values in column 10.\n",
    "print(rand100[-2:,9])"
   ]
  },
  {
   "cell_type": "markdown",
   "metadata": {},
   "source": [
    "## 📚  <b> Practice 6. </b> \n",
    "Create a blank 8x8 matrix and fill it with a checkerboard pattern of 0s and 1s using indexing.\n"
   ]
  },
  {
   "cell_type": "code",
   "execution_count": 8,
   "metadata": {},
   "outputs": [
    {
     "data": {
      "text/plain": [
       "array([[0., 1., 0., 1., 0., 1., 0., 1.],\n",
       "       [1., 0., 1., 0., 1., 0., 1., 0.],\n",
       "       [0., 1., 0., 1., 0., 1., 0., 1.],\n",
       "       [1., 0., 1., 0., 1., 0., 1., 0.],\n",
       "       [0., 1., 0., 1., 0., 1., 0., 1.],\n",
       "       [1., 0., 1., 0., 1., 0., 1., 0.],\n",
       "       [0., 1., 0., 1., 0., 1., 0., 1.],\n",
       "       [1., 0., 1., 0., 1., 0., 1., 0.]])"
      ]
     },
     "execution_count": 8,
     "metadata": {},
     "output_type": "execute_result"
    }
   ],
   "source": [
    "# Blank 8x8 array\n",
    "q = np.zeros((8,8))\n",
    "\n",
    "# Fill with checkerboard pattern\n",
    "q[::2,1::2] = 1\n",
    "q[1::2,::2] = 1\n",
    "q"
   ]
  },
  {
   "cell_type": "markdown",
   "metadata": {},
   "source": [
    "## 📚  <b> Practice 7. </b>\n",
    "<ol class=\"alpha\">\n",
    "    <li> Create a 3x3 matrix with values ranging from 0 to 8. </li>\n",
    "    <li> Reverse the order of elements in your random 10x10 array from 3d. </li>\n",
    "</ol>"
   ]
  },
  {
   "cell_type": "code",
   "execution_count": null,
   "metadata": {},
   "outputs": [],
   "source": [
    "# a. Create a 3x3 matrix with values ranging from 0 to 8\n",
    "w = np.arange(0,9)\n",
    "v = w.reshape(3,3)\n",
    "\n",
    "# b. Reverse the order of elements in your random 10x10 array from 3d.\n",
    "rand100_rev = np.flip(rand100)"
   ]
  },
  {
   "cell_type": "markdown",
   "metadata": {},
   "source": [
    "\n",
    "## 📚  <b> Practice 8. </b> \n",
    "Create two random 1-D arrays of length 10. Merge them into a 2x10 array and then a 10x2 array.\n"
   ]
  },
  {
   "cell_type": "code",
   "execution_count": 10,
   "metadata": {},
   "outputs": [],
   "source": [
    "# 2 random 1-D arrays\n",
    "j = np.random.rand(10)\n",
    "k = np.random.rand(10)\n",
    "\n",
    "# Concat as 2x10 array\n",
    "vert = np.vstack((j,k))\n",
    "# Concat as 10x2 array\n",
    "horiz = vert.T # or np.column_stack((j,k)).shape"
   ]
  },
  {
   "cell_type": "markdown",
   "metadata": {},
   "source": [
    "\n",
    "## 📚  <b> Practice 9. </b>\n",
    "<ol class=\"alpha\">\n",
    "    <li> Split your random 10x10 array from 3d into two 10x5 arrays. </li>\n",
    "    <li> Combine the first 10x5 array from (a), the 10x2 array from 8b, and the other 10x5 array from (a). In other words, recombine the 10x10 array from 3d with two new columns in index positions 5 and 6. Your final array should have 10 rows and 12 columns. Verify this by printing the shape of the resulting array. </li>\n",
    "</ol>\n"
   ]
  },
  {
   "cell_type": "code",
   "execution_count": 11,
   "metadata": {},
   "outputs": [
    {
     "name": "stdout",
     "output_type": "stream",
     "text": [
      "(10, 12)\n"
     ]
    }
   ],
   "source": [
    "# Split into equal 10x5 arrays.\n",
    "x,y = np.hsplit(rand100,[5])\n",
    "\n",
    "# Concatenate x, y, and horiz\n",
    "rand120 = np.concatenate((x,y,horiz), axis=1)\n",
    "\n",
    "# Print dimensions\n",
    "print(rand120.shape)"
   ]
  },
  {
   "cell_type": "markdown",
   "metadata": {},
   "source": [
    "\n",
    "## 📚  <b> Practice 10. </b>\n",
    "<ol class=\"alpha\">\n",
    "    <li> Raise array <code>b</code> to the power of array <code>c</code>. </li>\n",
    "    <li> Create a new 5x10 array of random values. Subtract the mean of each row from every value. </li>\n",
    "</ol>\n"
   ]
  },
  {
   "cell_type": "code",
   "execution_count": 12,
   "metadata": {},
   "outputs": [
    {
     "name": "stdout",
     "output_type": "stream",
     "text": [
      "[[-0.41170877  0.15229157  0.34946892  0.2381375  -0.0113315   0.13161321\n",
      "  -0.1760515  -0.36044148 -0.12893971  0.21696174]\n",
      " [ 0.40968579  0.15228368  0.20724049 -0.33369976 -0.02910147 -0.4137152\n",
      "   0.06196756  0.17497702 -0.33630459  0.10666647]\n",
      " [-0.37876503  0.19540316  0.41508675 -0.39110682  0.25720744  0.11413381\n",
      "  -0.26093547 -0.22328425 -0.10556412  0.37782455]\n",
      " [ 0.21099536 -0.14109065  0.19566946  0.11854273 -0.44249867 -0.1864767\n",
      "   0.04331053 -0.16904161  0.06026488  0.31032467]\n",
      " [ 0.38219275  0.1848438   0.00265078  0.33216692 -0.39019945  0.02188796\n",
      "   0.01753881 -0.28219403 -0.24254002 -0.02634752]]\n"
     ]
    }
   ],
   "source": [
    "# a. \n",
    "b ** c\n",
    "\n",
    "# b. \n",
    "# Random 5x10 array\n",
    "rand50 = np.random.rand(5, 10)\n",
    "\n",
    "# Calculate mean of each row\n",
    "m = np.array([rand50.mean(axis=1)])\n",
    "# Subtract mean from each element\n",
    "l = rand50 - m.T\n",
    "print(l)"
   ]
  },
  {
   "cell_type": "markdown",
   "metadata": {},
   "source": [
    "<hr style=\"border-top: 1px solid gray; margin-top: 24px; margin-bottom: 1px\"></hr>"
   ]
  }
 ],
 "metadata": {
  "kernelspec": {
   "display_name": "Python 3",
   "language": "python",
   "name": "python3"
  },
  "language_info": {
   "codemirror_mode": {
    "name": "ipython",
    "version": 3
   },
   "file_extension": ".py",
   "mimetype": "text/x-python",
   "name": "python",
   "nbconvert_exporter": "python",
   "pygments_lexer": "ipython3",
   "version": "3.10.12"
  }
 },
 "nbformat": 4,
 "nbformat_minor": 4
}

{
 "cells": [
  {
   "cell_type": "markdown",
   "metadata": {},
   "source": [
    "| [⬅️ Previous Session](0-1_ready_set_python.ipynb) | [🏠 Course Home](../index.ipynb) |  [🚦 EDS217 Vibes](https://eds217-stoplight.herokuapp.com) | [➡️ Next Session](1-1_variables.ipynb)|\n",
    "\n",
    "# Interactive Session 0-2: \"Hello, Python Data Science\""
   ]
  },
  {
   "cell_type": "markdown",
   "metadata": {},
   "source": [
    "![Python Comic](assets/python.png)\n",
    "\n",
    "## Setup\n",
    "\n",
    "- Fork and clone [this repo](https://github.com/environmental-data-science/eds217-day0-comp)\n",
    "- Check out the project structure & files\n",
    "\n",
    "## Data Science 101\n",
    "\n",
    "- We'll run through each line in the `toolik_airtemp_summary.ipynb`, which is translated from your first EDS221 assignment. This will allow us to understand where what it's doing, and see for the first time, some of the most important tools in our python toolkit.\n",
    "\n",
    "- Similarly, we'll create a new notebook from scratch & work through one more example to read in a different dataset. \n",
    "\n",
    "Our second example will be to: \n",
    "\n",
    "- Read in a different set of data from a long-term water quality study at Elkhorn Slough, CA.\n",
    "- Explore the imported data\n",
    "- Clean up the dataset names\n",
    "- Create a plot of water quality variables at varying sites, do some customization\n",
    "- Export the graph to /figs\n",
    "\n",
    "## Data sources \n",
    "\n",
    "All datasets are collected and provided by scientists with the [Toolik Station Long Term Ecological Research](https://www.uaf.edu/toolik/) (LTER) site, Alaska.\n",
    "\n",
    "**Toolik Station Meteorological Data: toolik_weather.csv** Shaver, G. 2019. A multi-year DAILY weather file for the Toolik Field Station at Toolik Lake, AK starting 1988 to present. ver 4. Environmental Data Initiative. https://doi.org/10.6073/pasta/ce0f300cdf87ec002909012abefd9c5c (Accessed 2021-08-08).\n",
    "\n",
    "**Toolik Lake Chlorophyll: toolik_chlorophyll.csv**  Miller, M. 2014. Chlorophyll A, and primary productivity of Toolik lake , Arctic LTER 1975 to 1988, Toolik Filed Station, Alaska. ver 5. Environmental Data Initiative. https://doi.org/10.6073/pasta/6738024bf0174f73b3f74486f43d1059 (Accessed 2021-08-08).\n",
    "\n",
    "**Toolik fish: toolik_fish.csv** Budy, P., C. Luecke, and M. McDonald. 2020. Fish captures in lakes of the Arctic LTER region Toolik Field Station Alaska from 1986 to present. ver 6. Environmental Data Initiative. https://doi.org/10.6073/pasta/d0a9358f783339821b82510eb8c61b45 (Accessed 2021-08-08).\n",
    "\n",
    "**Elkhorn Slough Water Quality Data: elkhorn_slough_water_quality.csv** Arora, B., Venkatesh, S., Dwivedi, D., Vezhapperambu, S., & Ramesh, M. (2022). Water Quality Parameters at the Elkhorn Slough National Estuarine Research Reserve (ESNERR). ESS-DIVE. doi:10.15485/1875297, version: ess-dive-941fcc36279c83f-20230407T151617854348.\n",
    "\n",
    "[https://knb.ecoinformatics.org/view/doi%3A10.15485%2F1875297](https://knb.ecoinformatics.org/view/doi%3A10.15485%2F1875297)\n"
   ]
  }
 ],
 "metadata": {
  "kernelspec": {
   "display_name": "eds217_2023",
   "language": "python",
   "name": "python3"
  },
  "language_info": {
   "name": "python",
   "version": "3.10.12"
  },
  "orig_nbformat": 4
 },
 "nbformat": 4,
 "nbformat_minor": 2
}

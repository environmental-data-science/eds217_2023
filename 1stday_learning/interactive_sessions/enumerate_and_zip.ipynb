{
 "cells": [
  {
   "cell_type": "raw",
   "id": "f98ec200",
   "metadata": {},
   "source": [
    "---\n",
    "title: Enumerate and Zip \n",
    "---"
   ]
  },
  {
   "cell_type": "markdown",
   "id": "9a416f98",
   "metadata": {},
   "source": [
    "# Simplified Example of `enumerate` and `zip`\n",
    "\n",
    "\n",
    "## 1. First, let's make three short lists to use in our example:"
   ]
  },
  {
   "cell_type": "code",
   "execution_count": null,
   "id": "2e8cf7a7",
   "metadata": {},
   "outputs": [],
   "source": [
    "list_1 = ['a', 'b', 'c', 'd']\n",
    "list_2 = [1, 2, 3, 4]\n",
    "list_3 = ['i', 'j', 'k', 'l']"
   ]
  },
  {
   "cell_type": "markdown",
   "id": "2ab0a8af",
   "metadata": {},
   "source": [
    "## 2. Now, let's see what happens when we put the first list into a for loop using `enumerate`"
   ]
  },
  {
   "cell_type": "code",
   "execution_count": null,
   "id": "d87d4275",
   "metadata": {},
   "outputs": [],
   "source": [
    "for stuff in enumerate(list_1):\n",
    "    print(stuff)"
   ]
  },
  {
   "cell_type": "markdown",
   "id": "4ae51d62",
   "metadata": {},
   "source": [
    "#### 🤔 `stuff` contained two items each time the loop ran. The first item is the `index` into `list_1` (the current position of the loop in the list) and the second item is the `value` of `list_1` at that position. \n",
    "\n",
    "## 3. Let's alter our code to assign each of these items separately in the for loop:"
   ]
  },
  {
   "cell_type": "code",
   "execution_count": null,
   "id": "5d490e7a",
   "metadata": {},
   "outputs": [],
   "source": [
    "for i,value in enumerate(list_1):\n",
    "    print(i,value)"
   ]
  },
  {
   "cell_type": "markdown",
   "id": "095a7d29",
   "metadata": {},
   "source": [
    "#### 🧠 : Now that we have an \"index\" variable (`i`), we could grab the value of any item in any other list at the same position! \n",
    "## 4. Let's grab the values of `list_1` and `list_2` as well."
   ]
  },
  {
   "cell_type": "code",
   "execution_count": null,
   "id": "ad0acb83",
   "metadata": {},
   "outputs": [],
   "source": [
    "for i,value in enumerate(list_1):\n",
    "    print(i,value,list_2[i],list_3[i])"
   ]
  },
  {
   "cell_type": "markdown",
   "id": "8cf100ce",
   "metadata": {},
   "source": [
    "## 🧠 🧠 Finally, instead of using the index to \"grab\" items outside the loop, we can use `zip` to loop through all of these lists at the same time!"
   ]
  },
  {
   "cell_type": "code",
   "execution_count": null,
   "id": "b77d08b8",
   "metadata": {},
   "outputs": [],
   "source": [
    "for stuff in zip(list_1, list_2, list_3):\n",
    "    print(stuff)"
   ]
  },
  {
   "cell_type": "code",
   "execution_count": null,
   "id": "098352ee",
   "metadata": {},
   "outputs": [],
   "source": [
    "def f(x):\n",
    "    return x + 'stuff'\n",
    "\n",
    "# new_list = []\n",
    "# for value in list_1:\n",
    "#     new_list.append(f(value))\n",
    "    \n",
    "\n",
    "new_list = [f(value) for value in list_1]\n",
    "print(new_list)"
   ]
  },
  {
   "cell_type": "code",
   "execution_count": null,
   "id": "34396f36",
   "metadata": {},
   "outputs": [],
   "source": [
    "for v in zip(list_1): #, list_2, list_3):\n",
    "    print(v)"
   ]
  },
  {
   "cell_type": "markdown",
   "id": "b2dffdcc",
   "metadata": {},
   "source": [
    "![th-4165028533.jpeg](assets/th-4165028533.jpeg)"
   ]
  }
 ],
 "metadata": {
  "kernelspec": {
   "display_name": "Python 3 (ipykernel)",
   "language": "python",
   "name": "python3"
  },
  "language_info": {
   "codemirror_mode": {
    "name": "ipython",
    "version": 3
   },
   "file_extension": ".py",
   "mimetype": "text/x-python",
   "name": "python",
   "nbconvert_exporter": "python",
   "pygments_lexer": "ipython3",
   "version": "3.10.12"
  }
 },
 "nbformat": 4,
 "nbformat_minor": 5
}

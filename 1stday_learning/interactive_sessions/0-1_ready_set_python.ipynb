{
 "cells": [
  {
   "cell_type": "markdown",
   "metadata": {},
   "source": [
    "| [🏠 Course Home](../index.ipynb) | [🚦 EDS217 Vibes](https://eds217-stoplight.herokuapp.com) | [➡️ Next Session](0-2_hello_data_science.ipynb) |\n",
    "\n",
    "# Interactive Session 0-1: Getting ready to Python\n",
    "\n",
    "![Python Comic](assets/python_environment_2x.png)\n",
    "\n",
    "## General Plan\n",
    "\n",
    "There are many ways to set up your local machine to run maintainable python data science code. In addition to the usual need to build your code using version control (e.g. GitHub), any strategy for local computation requires three critical components:\n",
    "\n",
    "1. A system for managing computing environments to ensure that code runs in a consistent environment.\n",
    "1. A system for managing python packages to ensure that code runs with consistent dependencies.\n",
    "1. A system for managing python code, which is usually an integrated development environment (IDE) in which editing and running code occur interactively.\n"
   ]
  },
  {
   "cell_type": "markdown",
   "metadata": {},
   "source": [
    "\n",
    "In the past, these three components were often managed separately, but in recent years, there has been a trend towards integrating these components into a single system. For example, the [RStudio IDE](https://rstudio.com) is a single system that manages all three components for R code. Similarly, the [Data Spell IDE](https://www.jetbrains.com/dataspell/) is a single system that manages all three components for python code.\n",
    "\n",
    "In this class, we will use a combination of tools to manage these three components. We will use `conda` to manage computing environments and python packages, and we will use [Visual Studio Code](https://code.visualstudio.com) as our IDE.\n",
    "\n",
    "These are both very popular tools in the python data science community, and they are both free and open source. However, there are many other options for managing computing environments, python packages, and code execution. We will discuss some of these options below, or you can skip ahead to the [instructions](#instructions) for setting up your local machine.\n"
   ]
  },
  {
   "cell_type": "markdown",
   "metadata": {},
   "source": [
    "\n",
    "## Managing Computing Environments, Libraries, and Dependencies\n",
    "\n",
    "There are many options for managing computing environments. These days, a common method is to use `containers`, in which an entire computational system (including processes, memory, disk space) is spun up as an isolated service on your local (or remote) machine. Tools such as [docker](https://www.docker.com) or python-specific [shiv](https://shiv.readthedocs.io/en/latest/) allow for isolated packaging and execution of python programs. Generally, these are better-suited for deployment of code on remote servers, but they can be used locally too. In this class, we're not going to use containers. Instead we will use a more traditional approach to managing computing environments and packages.\n",
    "\n",
    "More traditional approaches to managing computing environments and/or packages and dependencies include a suite of diverse tools. Some of these focus only on managing computing environments, while others focus on managing python packages. Some are designed to work with python only (e.g `venv`, `conda`), while others are designed to work with any programming language (e.g `virtualenv`). A few of the most popular options in each category are listed below. \n",
    "\n",
    "#### Package management tools for python\n",
    "`pip` is the standard package management tool for python. It is included with the standard python distribution, and it is the most widely used package management tool for python. However, it does not manage computing environments, so it is not as widely used as other tools below.\n",
    "\n",
    "`pipx` is a tool developed by [Brett Cannon](https://snarky.ca) that is designed to manage python packages. It has the advantage of being able to install any package hosted on [PyPI](https://pypi.org), as well as packages hosted on github and even packages you’ve made on your local machine. However, it does not manage computing environments, and it does not manage package dependencies.\n",
    "\n",
    "#### Environment management tools for python \n",
    "`virtualenv` is a is a tool to create isolated Python environments. Since Python 3.3, a subset of it has been integrated into the standard library under the `venv`. While `venv` is sufficient to create virtual environments, it does not manage package dependencies, so it is also not as widely used as other tools below. \n",
    "\n",
    "### Tools that manage both environments and packages\n",
    "\n",
    "`conda` is a tool developed by [Anaconda](https://anaconda.org) that is designed to manage computing environments. However, it also allows you to install packages, and even install binaries of packages directly without the need for local compilation. It also manages package dependencies, ensuring libraries are inter-operable.\n",
    "\n",
    "`mamba` is a new tool developed by the [QuantStack](https://quantstack.net) team that is designed to be a drop-in replacement for `conda`. It allows you to create new environments, install packages, and even install binaries of packages directly without the need for local compilation. It also manages package dependencies, ensuring libraries are inter-operable. It is designed to be faster than `conda` and to use fewer resources. It is also designed to be more compatible with `pip` than `conda`. However, it is not as widely used as `conda` and it is not as well-supported by IDEs.\n",
    "\n",
    "`poetry` is another new tool developed by the [Python Packaging Authority](https://python-poetry.org) team that is designed to manage computing environments and python packages. Advantages of `poetry` include a simplified approach to dependency management and a simplified approach to building and packaging your own code for distribution. Disadvantages include a lack of support for `conda` environments and a lack of support for `pip` packages that are not hosted on [PyPI](https://pypi.org) (although this may change in the future).\n"
   ]
  },
  {
   "cell_type": "markdown",
   "metadata": {},
   "source": [
    "# 0. Forking, Cloning, & Configuring the course repository\n",
    "\n",
    "Before we get started, we need to clone the course repository. This will create a local copy of the course repository on your local machine. We will use this local copy to work through the course materials and you will be able to add your own code to this local copy as you work through the course.\n",
    "\n"
   ]
  },
  {
   "cell_type": "markdown",
   "metadata": {},
   "source": [
    "\n",
    "## Forking  the course repository. \n",
    "\n",
    "To fork the course repository, you must go to the [course repository](https://github.com/environmental-data-science/eds217_2023) on GitHub and click the \"Fork\" button. This will add the repository to your own GitHub account, and allow you to make changes to the repository without affecting the original repository.\n"
   ]
  },
  {
   "cell_type": "markdown",
   "metadata": {},
   "source": [
    "\n",
    "## Cloning the course repository.\n",
    "\n",
    "Once you have forked the repository (added it to your Github account), you need to clone the course repository to create a copy on your local machine.\n",
    "\n",
    "You can clone the repo on the github site by going to your local account version of the repository on GitHub:\n",
    "\n",
    "```html\n",
    "https://github.com/[your-github-username]/eds217_2023\n",
    "```\n",
    "\n",
    "Click on the green \"Code\" button and copy the URL that appears in the dropdown menu. Then use that url to clone the repository on your local machine:\n",
    "\n",
    "```bash\n",
    "git clone https://github.com/environmental-data-science/eds217_2023.git\n",
    "```\n",
    "\n",
    "Make sure you put the course repository in a location where you can find it again. For example, you might want to put it in a folder called `dev` or `meds` or `code` or `projects` or something like that. Hopefully you already have organization from your prior work, but if not, now is a good time to start.\n",
    "\n"
   ]
  },
  {
   "cell_type": "markdown",
   "metadata": {},
   "source": [
    "\n",
    "## Configuring the course repository.\n",
    "\n",
    "### Setting Up the Repository for Clean Jupyter Notebooks\n",
    "\n",
    "To ensure the integrity and consistency of your Jupyter notebooks, it's helpful to strip outputs before committing them. This keeps notebooks lightweight and avoids accidentally committing potentially sensitive information. It also makes it easier to collaborate on notebooks, because output changes won't be flagged as changes in the Git history. \n",
    "\n",
    "To setup the repository for clean Jupyter notebooks, you'll need to add a filter to your local Git configuration. \n",
    "\n",
    "**Because filters are scripts that run code on your local machine, we do this installation manually, so you can be sure you aren't accidentally running malicious code.**\n",
    "\n",
    "```bash\n",
    "git config --local filter.strip-notebook-output.clean \"jupyter nbconvert --stdin --stdout --to notebook --ClearOutputPreprocessor.enabled=True\"\n",
    "git config --local filter.strip-notebook-output.smudge cat\n",
    "git config --local filter.strip-notebook-output.required true\n",
    "```\n",
    "\n",
    "These commands set up a filter only for this repository. They tell Git how to process `.ipynb` files before commit and checkout. \n",
    "\n",
    "\n",
    "With the filter set up, you can now add and commit Jupyter notebooks to the repository. The filter will automatically strip outputs from the notebooks during the commit process.\n"
   ]
  },
  {
   "cell_type": "markdown",
   "metadata": {},
   "source": [
    "# 1. Installing and configuring `conda`\n",
    "\n",
    "Throughout this course, **we will use `conda` for our environment management**. We can access `conda` through the terminal/command line or within a terminal inside an IDE.\n",
    "\n",
    "Here are detailed instructions for getting conda and our class environment ready for use on your local machine.\n",
    "\n",
    "## Instructions: [Installing & configuring conda](conda_setup.ipynb)"
   ]
  },
  {
   "cell_type": "markdown",
   "metadata": {},
   "source": [
    "\n",
    "# Managing code and execution (IDEs)\n",
    "\n",
    "Finally, we come to the tool you will use most when coding on your local computer – the Integrated Development Environment, or IDE. The possibilities for IDEs is even more expansive than for either of the other tools. Common python IDEs include:\n",
    "\n",
    "- [Visual Studio Code](https://code.visualstudio.com)\n",
    "- [Jupyter Notebooks](https://jupyter.org)\n",
    "- [Jupyter Labs](https://jupyter.org)\n",
    "- [Spyder](https://www.spyder-ide.org)\n",
    "- [PyCharm](https://www.jetbrains.com/pycharm/)\n",
    "- [Data Spell](https://www.jetbrains.com/dataspell/)\n",
    "- [Atom](https://atom.io)\n",
    "- [RStudio](https://www.rstudio.com)\n",
    "\n",
    "Any of these would work well for a python data science workflow, but some have more features focused on data science than others. For example, PyCharm is more focused on software engineering, but a new IDE called Data Spell, by the same company (Jet Brains), is squarely centered on data science workflows.\n",
    "\n",
    "The best IDE is usually the one you are most familiar with. For that reason, RStudio isn’t a _terrible_ choice for an IDE. Many data scientists use  `Jupyter` (both Jupyter Notebooks and JupyterLab). However, using a non-browser IDE provides more opportunities for customization and removes a layer of complication required when executing your code.\n"
   ]
  },
  {
   "cell_type": "markdown",
   "metadata": {},
   "source": [
    "\n",
    "#### Python Data Science Editor Usage (Primary Editor)\n",
    "![IDE choices](assets/editor_usage.png)\n"
   ]
  },
  {
   "cell_type": "markdown",
   "metadata": {},
   "source": [
    "\n",
    "#### Python Data Science Editor Usage (Secondary Editor)\n",
    "![IDE choices](assets/editor_usage_secondary.png)"
   ]
  },
  {
   "cell_type": "markdown",
   "metadata": {},
   "source": [
    "# 2. Launching Jupyter Notebooks and Testing your Environment\n",
    "\n",
    "Jupyter notebooks are the easiest way to get up-and-running with python. They are also a great tool for formatting code and documentation in the same place. All of the class materials for this course were developed as notebook files. These files aren't pure python, and instead are somewhat similar to `.Rmd` files. However, instead of being encoded in `markdown`, notebooks are encoded as `json` files.\n",
    "\n",
    "The `json` format is much more extensible than markdown, but also much harder to edit (it's closer to raw `html` or `xml`). Most python IDEs can render notebook files, but some may support more features than others. To get the most functionality from a notebook (or `.ipynb`) file, it's best to view, edit, and execute the notebook in a `Jupyter` server. Let's start our first server and make sure everything is working well.\n",
    "\n",
    "## Instruction: [Launching Jupyter and testing your environment](jupyter_setup.ipynb)\n",
    "\n"
   ]
  },
  {
   "cell_type": "markdown",
   "metadata": {},
   "source": [
    "# 3. Installing and Configuring VSCode for Python\n",
    "\n",
    "**In this class, we will focus on using Visual Studio Code (VSCode) as our IDE.**\n",
    "\n",
    "This selection provides you with exposure to the single most popular IDE in the datascience world and also one that is well-supported by the `conda` environment management system. It is also a very popular IDE for software engineering, so you will be able to use it for other courses and projects as well.\n",
    "\n",
    "## Instructions: [Installing and confuguring VSCode](vscode_setup.ipynb)\n"
   ]
  }
 ],
 "metadata": {
  "kernelspec": {
   "display_name": "Python 3 (ipykernel)",
   "language": "python",
   "name": "python3"
  },
  "language_info": {
   "codemirror_mode": {
    "name": "ipython",
    "version": 3
   },
   "file_extension": ".py",
   "mimetype": "text/x-python",
   "name": "python",
   "nbconvert_exporter": "python",
   "pygments_lexer": "ipython3",
   "version": "3.10.12"
  }
 },
 "nbformat": 4,
 "nbformat_minor": 4
}

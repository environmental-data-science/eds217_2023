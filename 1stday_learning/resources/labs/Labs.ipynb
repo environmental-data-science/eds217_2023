{
 "cells": [
  {
   "cell_type": "markdown",
   "metadata": {},
   "source": [
    "[🏠 index](../../index.ipynb) \n",
    "\n",
    "[Lab 1 Introduction Slides](\"Lab-1_Intro_Slides.ipynb\")\n",
    "\n",
    "[Lab 1 - Catchment Water Balance](\"Lab-1_Catchment_Water_Balance.ipynb\")\n",
    "\n",
    "[Lab 2 - Energy Balance](\"Lab-2_Energy_Balance.ipynb\")"
   ]
  }
 ],
 "metadata": {
  "language_info": {
   "name": "python"
  },
  "orig_nbformat": 4
 },
 "nbformat": 4,
 "nbformat_minor": 2
}

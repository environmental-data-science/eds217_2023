{
 "cells": [
  {
   "cell_type": "markdown",
   "metadata": {},
   "source": [
    "# EDS 217 Practice Sessions\n",
    "\n",
    "This page contains links to practice sessions for EDS 217.\n",
    "\n",
    "### [Practice Session 1-1: Variables](practice_1-1_variables.ipynb)\n",
    "\n",
    "### [Practice Session 1-2: Lists](practice_1-2_lists.ipynb)\n",
    "\n",
    "### [Practice Session 2-1: Control Flow Statements](practice_2-1_control_flow_statements.ipynb)\n",
    "\n",
    "### [Practice Session 2-2: Structured Data](practice_2-2_structured_data.ipynb)\n",
    "\n",
    "### [Practice Session 3-1: Numpy](practice_3-1_numpy.ipynb)\n",
    "\n",
    "### [Practice Session 4-1: Pandas](practice_4-1_pandas.ipynb)\n",
    "\n",
    "### [Practice Session 5-1: Matplotlib](practice_5-1_matplotlib.ipynb)\n"
   ]
  }
 ],
 "metadata": {
  "language_info": {
   "name": "python"
  },
  "orig_nbformat": 4
 },
 "nbformat": 4,
 "nbformat_minor": 2
}

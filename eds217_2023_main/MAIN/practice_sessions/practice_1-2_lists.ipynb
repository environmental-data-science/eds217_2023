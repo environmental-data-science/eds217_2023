{
 "cells": [
  {
   "cell_type": "markdown",
   "metadata": {
    "slideshow": {
     "slide_type": "slide"
    }
   },
   "source": [
    "| [⬅️ Previous Session](practice_1-1_variables.ipynb) | [🏠 Course Home](../index.ipynb) | [➡️ Next Session](practice_2-1_control_flow_statements.ipynb) |\n",
    "\n",
    "# Practice 1-2: Lists + Indexing\n"
   ]
  },
  {
   "cell_type": "markdown",
   "metadata": {},
   "source": [
    "\n",
    "## 📚  <b> Practice 1. </b> \n",
    "Define a new list of <b>floats</b> with <b>8 elements</b> called <code>my_list</code>. \n",
    "\n",
    "1. Find the 5th element in your list.\n",
    "2. Create a new list containing every other value in your original list.\n",
    "3. Using slicing and two different methods of indexing, remove the first and last values in your list.\n"
   ]
  },
  {
   "cell_type": "code",
   "execution_count": 1,
   "metadata": {},
   "outputs": [
    {
     "name": "stdout",
     "output_type": "stream",
     "text": [
      "1.2\n",
      "[3.4, 7.8, 1.2, 3.5]\n",
      "[5.6, 7.8, 9.1, 1.2, 2.3, 3.5]\n"
     ]
    }
   ],
   "source": [
    "#Define a new list of floats with 8 elements called my_list\n",
    "my_list = [3.4, 5.6, 7.8, 9.1, 1.2, 2.3, 3.5, 6.7]\n",
    "\n",
    "#Find the 5th element\n",
    "my_list[5]\n",
    "print(f\"{my_list[4]}\")\n",
    "\n",
    "#Create a new list containing every other value in your original list\n",
    "new_list = my_list[::2]\n",
    "\n",
    "print(new_list)\n",
    "\n",
    "#Using slicing and two different methods of indexing, remove the first and last values in your list\n",
    "n_list = my_list[1:-1]\n",
    "\n",
    "print(n_list)\n",
    "\n",
    "del my_list[0:7]\n",
    "\n"
   ]
  },
  {
   "cell_type": "markdown",
   "metadata": {},
   "source": [
    "\n",
    "## 📚  <b> Practice 2. </b> \n",
    "Create the variable <code>str_list</code> and assign it to the list <code>['energy', 'water', 'carbon']</code>.\n",
    "Use indexing to extract the second letter of the third element ('a') in <code>str_list</code>.\n",
    "\n",
    "```python\n",
    "str_list = ['energy', 'water', 'carbon']\n",
    "```"
   ]
  },
  {
   "cell_type": "code",
   "execution_count": 2,
   "metadata": {},
   "outputs": [],
   "source": [
    "str_list = ['energy', 'water', 'carbon']\n"
   ]
  },
  {
   "cell_type": "markdown",
   "metadata": {},
   "source": [
    "\n",
    "## 📚  <b> Practice 3. </b> \n",
    "Create a copy of <code>my_list</code>, which you assigned above. \n",
    "\n",
    "1. Using indexing or list operators, remove the first and last elements of your copied list.\n",
    "2. Sort both the original list and the copied list in reverse order.\n",
    "3. Use the <code>len()</code> function and a boolean operator to determine which list is longer.\n"
   ]
  },
  {
   "cell_type": "code",
   "execution_count": 16,
   "metadata": {},
   "outputs": [
    {
     "name": "stdout",
     "output_type": "stream",
     "text": [
      "[5.6, 7.8, 96.7, 1.2, 2.3, 67.6]\n",
      "[96.7, 67.6, 7.8, 6.7, 5.6, 3.6, 2.3, 1.2]\n",
      "this list is 8\n"
     ]
    }
   ],
   "source": [
    "#Using indexing. remove the first and last elements of your copied list\n",
    "my_list_copy = [3.6, 5.6, 7.8, 96.7, 1.2, 2.3, 67.6, 6.7]\n",
    "n_list = my_list_copy[1:-1]\n",
    "print(n_list)\n",
    "#Sort both the original list and the copied list in reverse order\n",
    "my_list_copy.sort(reverse=True)\n",
    "n_list.sort(reverse=True)\n",
    "\n",
    "print(my_list_copy)\n",
    "#Use the len() function and boolean operator to determine which list is longer\n",
    "len(my_list_copy)\n",
    "print(f\"this list is {len(my_list_copy)}\")"
   ]
  },
  {
   "cell_type": "markdown",
   "metadata": {},
   "source": [
    "## 📚  <b> Practice 4. </b> \n",
    "\n",
    "1. Create a new list of 10 random floats between 0 and 1 called <code>rand_list</code>.\n",
    "1. Add <code>rand_list</code> and <code>my_list</code> together in a new list called <code>float_list</code>. \n",
    "1. Print the result.\n"
   ]
  },
  {
   "cell_type": "code",
   "execution_count": 20,
   "metadata": {},
   "outputs": [
    {
     "name": "stdout",
     "output_type": "stream",
     "text": [
      "[0.56, 0.65, 0.45, 0.67, 0.23, 0.35, 0.789, 0.9, 0.34, 0.09, 3.6, 5.6, 7.8, 96.7, 1.2, 2.3, 67.6, 6.7]\n"
     ]
    }
   ],
   "source": [
    "#Create a new list of ten random floats between 0 and 1\n",
    "rand_list = [.56 , .65 , .45 , .67 , 0.23, .35 , .789 , .90 , .34, .09]\n",
    "my_list_r = [3.6, 5.6, 7.8, 96.7, 1.2, 2.3, 67.6, 6.7]\n",
    "\n",
    "#Add rand_list and my_list together in a new list called float_list\n",
    "float_list = rand_list + my_list_r\n",
    "\n",
    "print(float_list)"
   ]
  },
  {
   "cell_type": "markdown",
   "metadata": {},
   "source": [
    "\n",
    "## 📚  <b> Practice 5. </b> \n",
    "Use the <code>range()</code> function to construct a list of all hundreds (e.g. 100, 200, etc.) between 0 and 1000, inclusive.\n"
   ]
  },
  {
   "cell_type": "code",
   "execution_count": 27,
   "metadata": {},
   "outputs": [
    {
     "name": "stdout",
     "output_type": "stream",
     "text": [
      "[0, 100, 200, 300, 400, 500, 600, 700, 800, 900]\n"
     ]
    }
   ],
   "source": [
    "My_list = [* range(0, 1000, 100)]\n",
    "\n",
    "print(My_list)"
   ]
  },
  {
   "cell_type": "markdown",
   "metadata": {},
   "source": [
    "<hr style=\"border-top: 1px solid gray; margin-top: 24px; margin-bottom: 1px\"></hr>"
   ]
  }
 ],
 "metadata": {
  "kernelspec": {
   "display_name": "Python (eds217_2023)",
   "language": "python",
   "name": "eds217_2023"
  },
  "language_info": {
   "codemirror_mode": {
    "name": "ipython",
    "version": 3
   },
   "file_extension": ".py",
   "mimetype": "text/x-python",
   "name": "python",
   "nbconvert_exporter": "python",
   "pygments_lexer": "ipython3",
   "version": "3.10.12"
  }
 },
 "nbformat": 4,
 "nbformat_minor": 2
}

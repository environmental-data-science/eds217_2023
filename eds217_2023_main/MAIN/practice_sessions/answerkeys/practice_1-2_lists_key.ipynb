{
 "cells": [
  {
   "cell_type": "markdown",
   "metadata": {
    "slideshow": {
     "slide_type": "slide"
    }
   },
   "source": [
    "# Practice 1-2: Lists + Indexing\n"
   ]
  },
  {
   "cell_type": "markdown",
   "metadata": {},
   "source": [
    "\n",
    "## 📚  <b> Practice 1. </b> \n",
    "Define a new list of <b>floats</b> with <b>8 elements</b> called <code>my_list</code>. \n",
    "\n",
    "1. Find the 5th element in your list.\n",
    "2. Create a new list containing every other value in your original list.\n",
    "3. Using slicing and two different methods of indexing, remove the first and last values in your list.\n"
   ]
  },
  {
   "cell_type": "code",
   "execution_count": 16,
   "metadata": {},
   "outputs": [
    {
     "name": "stdout",
     "output_type": "stream",
     "text": [
      "my_list: [432.0, -401.943582, 3.9, 0.8712054, 57849.097, 1.2753, -98437.0, 7.78]\n",
      "my_list 5th element:57849.097\n",
      "every_other: [432.0, 3.9, 57849.097, -98437.0]\n",
      "first and last removed: [-401.943582, 3.9, 0.8712054, 57849.097, 1.2753, -98437.0]\n"
     ]
    }
   ],
   "source": [
    "# Define a new list called my_list.\n",
    "my_list = [432.0,-401.943582,3.9,0.8712054,57849.097,1.2753,-98437.0,7.78]\n",
    "print(f\"my_list: {my_list}\")\n",
    "# Find the 5th element.\n",
    "print(f\"my_list 5th element:{my_list[4]}\")\n",
    "# New list with every other value.\n",
    "every_other = my_list[::2]\n",
    "print(f\"every_other: {every_other}\")\n",
    "# Remove first and last values. \n",
    "print(f\"first and last removed: {my_list[1:-1]}\")"
   ]
  },
  {
   "cell_type": "markdown",
   "metadata": {},
   "source": [
    "\n",
    "## 📚  <b> Practice 2. </b> \n",
    "Use indexing to extract the second letter of the third element ('a') in <code>str_list</code>.\n"
   ]
  },
  {
   "cell_type": "code",
   "execution_count": 1,
   "metadata": {},
   "outputs": [],
   "source": [
    "str_list = ['energy', 'water', 'carbon']"
   ]
  },
  {
   "cell_type": "code",
   "execution_count": 8,
   "metadata": {},
   "outputs": [
    {
     "name": "stdout",
     "output_type": "stream",
     "text": [
      "str_list[2][1]: a\n"
     ]
    }
   ],
   "source": [
    "print(f\"str_list[2][1]: {str_list[2][1]}\")"
   ]
  },
  {
   "cell_type": "markdown",
   "metadata": {},
   "source": [
    "\n",
    "## 📚  <b> Practice 3. </b> \n",
    "Create a copy of <code>my_list</code>, which you assigned above. \n",
    "\n",
    "1. Using indexing or list operators, remove the first and last elements of your copied list.\n",
    "2. Sort both the original list and the copied list in reverse order.\n",
    "3. Use the <code>len()</code> function and a boolean operator to determine which list is longer.\n"
   ]
  },
  {
   "cell_type": "code",
   "execution_count": 17,
   "metadata": {},
   "outputs": [
    {
     "name": "stdout",
     "output_type": "stream",
     "text": [
      "my_list: [432.0, -401.943582, 3.9, 0.8712054, 57849.097, 1.2753, -98437.0, 7.78]\n",
      "my_list_copy: [-401.943582, 3.9, 0.8712054, 57849.097, 1.2753, -98437.0]\n",
      "Reverse sorted my_list: [57849.097, 432.0, 7.78, 3.9, 1.2753, 0.8712054, -401.943582, -98437.0]\n",
      "Reverse sorted my_list_copy: [57849.097, 3.9, 1.2753, 0.8712054, -401.943582, -98437.0]\n",
      "my_list is longer\n"
     ]
    }
   ],
   "source": [
    "# Create a copy of mylist.\n",
    "\n",
    "my_list_copy = my_list.copy()\n",
    "my_list_copy = my_list_copy[1:-1]\n",
    "\n",
    "\n",
    "print(f\"my_list: {my_list}\")\n",
    "print(f\"my_list_copy: {my_list_copy}\")\n",
    "\n",
    "# Sort both lists from largest to smallest.\n",
    "my_list.sort(reverse=True)\n",
    "print(f\"Reverse sorted my_list: {my_list}\")\n",
    "\n",
    "my_list_copy.sort(reverse=True)\n",
    "print(f\"Reverse sorted my_list_copy: {my_list_copy}\")\n",
    "\n",
    "# Determine which list is longer.\n",
    "if len(my_list) > len(my_list_copy):\n",
    "    print(\"my_list is longer\")\n",
    "else:\n",
    "    print(\"my_list_copy is longer\")"
   ]
  },
  {
   "cell_type": "markdown",
   "metadata": {},
   "source": [
    "## 📚  <b> Practice 4. </b> \n",
    "\n",
    "Create a new list of 10 random floats between 0 and 1 called <code>rand_list</code>.\n",
    "\n",
    "Add <code>rand_list</code> and <code>my_list</code> together in a new list called <code>float_list</code>. \n",
    "\n",
    "Print the result.\n"
   ]
  },
  {
   "cell_type": "code",
   "execution_count": 23,
   "metadata": {},
   "outputs": [
    {
     "name": "stdout",
     "output_type": "stream",
     "text": [
      "[0.10955523298441361, 0.32572232971017967, 0.13761744658626607, 0.3203685653642424, 0.8091200680274167, 0.23342354410038746, 0.2821092128951217, 0.6901705052507255, 0.8891754795166417, 0.327553436209607, 57849.097, 432.0, 7.78, 3.9, 1.2753, 0.8712054, -401.943582, -98437.0]\n"
     ]
    }
   ],
   "source": [
    "# Create a list of 10 random numbers between 0 and 1:\n",
    "from random import random\n",
    "rand_list = [random() for i in range(10)]\n",
    "\n",
    "# Add the lists together.\n",
    "float_list = rand_list + my_list\n",
    "\n",
    "# Print the result\n",
    "print(float_list)"
   ]
  },
  {
   "cell_type": "markdown",
   "metadata": {},
   "source": [
    "\n",
    "## 📚  <b> Practice 5. </b> \n",
    "Use the <code>range()</code> function to construct a list of all hundreds (e.g. 100, 200, etc.) between 0 and 1000, inclusive.\n"
   ]
  },
  {
   "cell_type": "code",
   "execution_count": 25,
   "metadata": {},
   "outputs": [
    {
     "name": "stdout",
     "output_type": "stream",
     "text": [
      "[0, 100, 200, 300, 400, 500, 600, 700, 800, 900, 1000]\n"
     ]
    }
   ],
   "source": [
    "# Construct a list of hundreds from 0 to 1000\n",
    "hundreds = list(range(0,1001,100))\n",
    "# Print your list\n",
    "print(hundreds)"
   ]
  },
  {
   "cell_type": "markdown",
   "metadata": {},
   "source": [
    "<hr style=\"border-top: 1px solid gray; margin-top: 24px; margin-bottom: 1px\"></hr>"
   ]
  }
 ],
 "metadata": {
  "kernelspec": {
   "display_name": "Python 3",
   "language": "python",
   "name": "python3"
  },
  "language_info": {
   "codemirror_mode": {
    "name": "ipython",
    "version": 3
   },
   "file_extension": ".py",
   "mimetype": "text/x-python",
   "name": "python",
   "nbconvert_exporter": "python",
   "pygments_lexer": "ipython3",
   "version": "3.10.12"
  }
 },
 "nbformat": 4,
 "nbformat_minor": 2
}

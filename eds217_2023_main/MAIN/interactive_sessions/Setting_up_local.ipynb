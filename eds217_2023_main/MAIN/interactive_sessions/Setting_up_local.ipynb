{
 "cells": [
  {
   "cell_type": "raw",
   "metadata": {},
   "source": [
    "---\n",
    "title: Setting up your local Python\n",
    "---"
   ]
  },
  {
   "cell_type": "markdown",
   "metadata": {},
   "source": [
    "## General Plan\n",
    "\n",
    "There are many ways to set up your local machine to run maintanable python data science code. In addition to the usual need to build your code within a repository, any strategy for local computation depends on three critical components that must work well together: Computational isolation, Functional consistency, Developer efficiency.\n",
    "\n",
    "In practice, these three components necessitate three fundamental and inter-related progamming tools:\n",
    "\n",
    "1. A tool for *managing computing environments*\n",
    "1. A tool for *managing python packages*\n",
    "1. An tool for *managing python code*, which is usually an integrated development environment (IDE) in which editing and running code occur interactively.\n",
    "\n",
    "We are about to install tools that will meet these three needs on your computer and ensure a successful start on your python journey. I've included details about some of the tools we will not use, and you'll see them mentioned (and discussed) across the Pythonverse. Don't be afraid to try new tools! \n"
   ]
  },
  {
   "cell_type": "markdown",
   "metadata": {},
   "source": [
    "\n",
    "## 1. Managing Computing Environments\n",
    "\n",
    "There are many options for managing computing environments. \n",
    "\n",
    "These days, a common method is to use `containers`, in which an entire computational system (including processes, memory, disk space) is spun up as an isolated service on your local (or remote). Systems such as [docker](https://www.docker.com) or python-specific [shiv](https://shiv.readthedocs.io/en/latest/) allow for isolated packaging and execution of python programs. \n",
    "\n",
    "A more common approach on local machines is to use the [`conda`](https://docs.conda.io/en/latest/)environment management system. Conda is developed by [Anaconda](https://anaconda.org), and is the most widely used environment management system in python data science. Other local solutions include [`venv`](https://docs.python.org/3/tutorial/venv.html), which is part of the main python distribution.\n",
    "\n",
    "In this course, **we will use `conda` for our environment management**. We will be able to access `conda` through the terminal/command line, within a terminal inside our IDE, or even inside our notebooks themselves.\n"
   ]
  },
  {
   "cell_type": "markdown",
   "metadata": {},
   "source": [
    "\n",
    "## 2. Managing Python Packages\n",
    "\n",
    "Once a computing environment is created in `conda`, there is a need to manage the individual packages within the environment. Once again, there are many ways to accomplish this task in python.\n",
    "\n",
    "Firstly, `conda` itself is a sophisticated package management system! The `conda` progra, is able to download and install almost any python package and often it is possible to install binaries of packages directly without the need for local compilation. `conda` also manages package dependencies, ensuring libraries are inter-operable.\n",
    "\n",
    "In addition to `conda`, there is the Package Installer for Python [`pip`](https://pip.pypa.io). `pip` can install any package hosted on the [Python Package Index (PyPI)](https://pypi.org), as well as packages hosted on github and even packages you've made on your local machine.\n",
    "\n",
    "Recently, a new entry to package management, [`poetry`](https://python-poetry.org) has started to become popular. `poetry` focuses on making package management - and especially dependency management between and amongst packages - much easier. It also simplifies building and packaging your own code for distribution.\n",
    "\n",
    "In this class, **we will use `conda` for our package management**. Because conda also _includes_ `pip`, we get all the advantages of conda (faster installs, easy integration with IDEs) without losing the broad capabilities of `pip`. In a few years, we might be using `poetry`, but for now, `conda` is still the most common tool you will see in professional python development shops, so it's the one you should know best. \n",
    "\n",
    "Conda can create new environments using a markup language specification called `yaml`. We will use an environment file created for our course to create an `eds217_2023` environment on your local machine."
   ]
  },
  {
   "cell_type": "markdown",
   "metadata": {},
   "source": [
    "\n",
    "## 3. Managing code and execution (IDEs)\n",
    "\n",
    "Finally, we come to the tool you will use most when coding on your local computer -- the Integrated Development Environment, or IDE. The possibilities for IDEs is even more expansive than for either of the other tools. Common python IDEs include:\n",
    "\n",
    "- [Visual Studio Code](https://code.visualstudio.com)\n",
    "- [Jupyter Notebooks](https://jupyter.org)\n",
    "- [Jupyter Labs](https://jupyter.org)\n",
    "- [Spyder](https://www.spyder-ide.org)\n",
    "- [PyCharm](https://www.jetbrains.com/pycharm/)\n",
    "- [Data Spell](https://www.jetbrains.com/dataspell/)\n",
    "- [Atom](https://atom.io)\n",
    "- [RStudio](https://www.rstudio.com)\n",
    "\n",
    "Any of these _could_ work well for a python data science workflow, but definitely some have more features focused on data science than others. For example, PyCharm is more focused on software engineering, but a new IDE called Data Spell, by the same company (Jet Brains), is squarely centered on data science workflows. That tool is too new (and niche) to spend a lot of time on in this course.\n",
    "\n",
    "The best IDE is usually the one you are most familiar with. For that reason, RStudio isn't a _terrible_ choice for an IDE. Although you will only be able to write code in quarto (`.qmd`) files, RStudio could be sufficient for many of your python needs. \n",
    "\n",
    "However, if you're going to develop python code professionally, you're not going to see many teams using RStudio. The reason is because most python data science is developed in native python formats (`.py` files) or in Jupyter Notebook formats (`.ipynb`). RStudio can't edit either of these formats. So it's best to use an IDE that is designed to efficiently parse these files and allow you to execute code directly. \n",
    "\n",
    "We will use both `.py` files and `.ipybd` files in this class. For notebooks, you could always edit them in a browser running Jupyter or JupyterLab However, it's probably best to learn to use a non-browser IDE if possible, because that will provide more opportunities for customization and removes a layer of complication required when executing your code.\n",
    "\n",
    "**Today we will look at both RStudio (for `.qmd` files) and Visual Studio Code (VSCode).**\n",
    "\n",
    "Having covered all the bases, we need to go ahead and get to work. Here are the steps for getting our class environment working on your machine, and within your IDE.\n"
   ]
  }
 ],
 "metadata": {
  "kernelspec": {
   "display_name": "Python 3.10.5 ('eds-217')",
   "language": "python",
   "name": "python3"
  },
  "language_info": {
   "name": "python",
   "version": "3.10.5"
  },
  "vscode": {
   "interpreter": {
    "hash": "02ac31c1bbea2dba9779e88833d1a7f8b96adbee2f2e8f94aa6bdb7029706ca5"
   }
  }
 },
 "nbformat": 4,
 "nbformat_minor": 2
}

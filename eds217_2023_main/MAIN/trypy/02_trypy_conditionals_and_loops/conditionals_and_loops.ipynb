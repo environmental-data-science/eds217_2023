{
 "cells": [
  {
   "cell_type": "raw",
   "id": "1759e0b1",
   "metadata": {},
   "source": [
    "---\n",
    "title: TryPy 2 - For Loops and Conditionals\n",
    "---"
   ]
  },
  {
   "cell_type": "markdown",
   "id": "5c363c1b",
   "metadata": {},
   "source": [
    "## Part 0. Setup Steps\n",
    "\n",
    "- Create a repo on GitHub named `eds217-trypy-02`\n",
    "- Clone to create a version-controlled project\n",
    "- Create some subfolder infrastructure (docs, data)\n",
    "- Create a new python notebook."
   ]
  },
  {
   "cell_type": "markdown",
   "id": "24f3fc11",
   "metadata": {},
   "source": [
    "## Part 1. Real data\n",
    "\n",
    "Explore this [data package](https://portal.edirepository.org/nis/mapbrowse?packageid=knb-lter-arc.10341.5) from EDI, which contains a \"Data file describing the biogeochemistry of samples collected at various sites near Toolik Lake, North Slope of Alaska\". Familiarize yourself with the metadata (particularly, View full metadata > expand 'Data entities' to learn more about the variables in the dataset). \n",
    "\n",
    "**Citation:** Kling, G. 2016. Biogeochemistry data set for soil waters, streams, and lakes near Toolik on the North Slope of Alaska, 2011. ver 5. Environmental Data Initiative. https://doi.org/10.6073/pasta/362c8eeac5cad9a45288cf1b0d617ba7 \n",
    "\n",
    "1. Download the CSV containing the Toolik biogeochemistry data\n",
    "2. Take a look at it - how are missing values stored? Keep that in mind. \n",
    "3. Drop the CSV into your data folder of your project\n",
    "4. Create a new notebook document in VSCode (or in a `jupyter notebook` server), save in docs as `toolik_chem.ipynb`\n",
    "5. Import the `pandas` and `matplotlib` libraries into your first code cell.\n",
    "6. Read in the data as `toolik_biochem`. Remember, you'll want to specify here how `NA` values are stored. Use the `na_values` argument in your `pd.read_csv` call to convert all column names to lower case/underscore format."
   ]
  },
  {
   "cell_type": "code",
   "execution_count": null,
   "id": "444d1922",
   "metadata": {},
   "outputs": [],
   "source": [
    "#| echo: false\n",
    "import pandas as pd\n",
    "# import pyjanitor\n",
    "toolik_biochem = pd.read_csv(\n",
    "    '../data/2011_Kling_Akchem.csv',\n",
    "    na_values=\".\").clean_names()"
   ]
  },
  {
   "cell_type": "markdown",
   "id": "9efce717",
   "metadata": {},
   "source": [
    "7. Create a subset of the data that contains only observations from the \"Toolik Inlet\" site, and that only contains the variables (columns) for pH, dissolved organic carbon (DOC), and total dissolved nitrogen (TDN). Store this subset as `inlet_biochem`. Make sure to LOOK AT the subset you've created. "
   ]
  },
  {
   "cell_type": "code",
   "execution_count": null,
   "id": "f66b6ee1",
   "metadata": {},
   "outputs": [],
   "source": [
    "#| echo: false\n",
    "valid = toolik_biochem[\"site\"] == \"Toolik Inlet\"\n",
    "inlet_biochem = toolik_biochem[valid][[\n",
    "    'ph','doc_um','tdn_um']]"
   ]
  },
  {
   "cell_type": "markdown",
   "id": "94724d80",
   "metadata": {},
   "source": [
    "8. Find the mean value of each column in `inlet_biochem` 2 different ways: \n",
    "\n",
    "a. Write a for loop from scratch to calculate the mean for each\n",
    "b. Use *one other method* (e.g. `.mean()`, or `.apply()`) to find the mean for each column."
   ]
  },
  {
   "cell_type": "code",
   "execution_count": null,
   "id": "656729db",
   "metadata": {},
   "outputs": [],
   "source": [
    "#| echo: false\n",
    "import numpy as np\n",
    "\n",
    "# Strategy a:\n",
    "print(\"Using for loop:\")\n",
    "for col in inlet_biochem.columns:\n",
    "    mean_val = np.nanmean(inlet_biochem[col])\n",
    "    print(f\"col {col}: {mean_val:.2f}\")\n",
    "\n",
    "# Strategy b: \n",
    "print(\"Using list comprehension:\")\n",
    "[print(\n",
    "    f\"col {col}:\",\n",
    "    f\"{np.nanmean(inlet_biochem[col]):.2f}\")\n",
    " for col in inlet_biochem.columns]\n",
    "\n",
    "# Strategy c: \n",
    "print(\"Using df.mean()\")\n",
    "print(inlet_biochem.mean())\n",
    "\n",
    "# Strategy d: \n",
    "print(\"Using .apply()\")\n",
    "print(inlet_biochem.apply(np.nanmean))"
   ]
  },
  {
   "cell_type": "markdown",
   "id": "f06623ab",
   "metadata": {},
   "source": [
    "### Save, stage, commit, pull, push!\n",
    "\n",
    "## END activities"
   ]
  }
 ],
 "metadata": {
  "kernelspec": {
   "display_name": "eds-217",
   "language": "python",
   "name": "eds-217"
  },
  "language_info": {
   "codemirror_mode": {
    "name": "ipython",
    "version": 3
   },
   "file_extension": ".py",
   "mimetype": "text/x-python",
   "name": "python",
   "nbconvert_exporter": "python",
   "pygments_lexer": "ipython3",
   "version": "3.10.5"
  }
 },
 "nbformat": 4,
 "nbformat_minor": 5
}

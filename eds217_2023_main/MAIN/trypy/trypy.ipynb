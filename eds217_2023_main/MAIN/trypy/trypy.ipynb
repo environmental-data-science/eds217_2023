{
 "cells": [
  {
   "cell_type": "raw",
   "id": "82480707",
   "metadata": {},
   "source": [
    "---\n",
    "title: TryPy - Re-examining R exercises through Python\n",
    "format:\n",
    "    html:\n",
    "        toc-depth: 4\n",
    "---"
   ]
  },
  {
   "cell_type": "markdown",
   "id": "1e18342e",
   "metadata": {},
   "source": [
    "# TryPy -  `R` you ready for some python?\n",
    "\n",
    "This notebook contains a set of excercises ported over from your earlier adventures in `R` during EDS 221. Throughout our short course we will revisit these activities in light of how you might tackle the same computation and analyses in python. \n",
    "\n",
    "As you work through these, go back and look at your `R` code as a jumping off point to what you will want to do in python. Now think about how you'd modify your existing `R` code to take advantage of `python`'s syntax and semantics. Try testing chatGPT or another LLM to see if your intuition about how to do the translation is the same as most common solutions.\n",
    "\n",
    "Some of these exercises may be _much easier_ to accomplish in python and some might be harder!\n",
    "\n",
    "NOTE: You can use python notebooks to do these exercises, but you could also create them as `.py` files in VSCode and run them interactively using `#%%` code blocks and the `eds217_2023` environment on your local machine.\n",
    "\n",
    "**Making sure that the filename is correct**\n",
    "\n",
    "## TryPy Exercises\n",
    "\n",
    "\n",
    "### [TryPy 01 - St. Louis Lead data exercise](01_trypy_stl_blood/stl_blood_exercise.ipynb) (reading csv, dataframe calculations, simple plots)\n",
    "\n",
    "\n",
    "### [TryPy 02 - Conditionals and Loops](02_trypy_conditionals_and_loops/conditionals_and_loops.ipynb)\n",
    "\n",
    "\n",
    "\n"
   ]
  }
 ],
 "metadata": {
  "kernelspec": {
   "display_name": "eds-217",
   "language": "python",
   "name": "eds-217"
  },
  "language_info": {
   "codemirror_mode": {
    "name": "ipython",
    "version": 3
   },
   "file_extension": ".py",
   "mimetype": "text/x-python",
   "name": "python",
   "nbconvert_exporter": "python",
   "pygments_lexer": "ipython3",
   "version": "3.10.5"
  },
  "nteract": {
   "version": "0.28.0"
  }
 },
 "nbformat": 4,
 "nbformat_minor": 5
}

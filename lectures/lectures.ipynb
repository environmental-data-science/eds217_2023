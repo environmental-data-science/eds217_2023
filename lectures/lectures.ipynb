{
 "cells": [
  {
   "cell_type": "markdown",
   "metadata": {},
   "source": [
    "# EDS 217 Lectures\n",
    "\n",
    "This page contains links to lecture materials for EDS 217.\n",
    "\n",
    "### [Introduction to Python Data Science](00_intro_to_python.ipynb)\n",
    "\n",
    "### [The Zen of Python](01_the_zen_of_python.ipynb)\n",
    "\n",
    "### [Debugging](03-debugging.ipynb)"
   ]
  }
 ],
 "metadata": {
  "language_info": {
   "name": "python"
  },
  "orig_nbformat": 4
 },
 "nbformat": 4,
 "nbformat_minor": 2
}

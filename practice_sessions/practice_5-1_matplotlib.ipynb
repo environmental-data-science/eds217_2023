{
 "cells": [
  {
   "cell_type": "markdown",
   "metadata": {},
   "source": [
    "| [⬅️ Previous Session](practice_4-1_pandas.ipynb) | [🏠 Course Home](../index.ipynb)\n",
    "\n",
    "# Session 5-1: Matplotlib 📈\n",
    "\n",
    "![mpl](./assets/mpl.png)\n",
    "\n",
    "\n",
    "\n",
    "**Don't forget to start your notebook with a cell containing the import statements you need for the session.**"
   ]
  },
  {
   "cell_type": "code",
   "execution_count": null,
   "metadata": {},
   "outputs": [],
   "source": [
    "import pandas as pd\n",
    "import matplotlib.pyplot as plt\n",
    "import matplotlib.dates as mdates"
   ]
  },
  {
   "cell_type": "markdown",
   "metadata": {},
   "source": [
    "## 📚  <b> Practice 1. </b> \n",
    "Recreate the plot below. You do not need to match the colors exactly, but do not rely on <span class=\"codeb\">matplotlib</span> defaults. Note: do not worry about the equation(s); these are included to indicate which functions to plot.\n",
    "\n",
    "<img src=\"./assets/mpl_prac1.png\" alt=\"prac1\" width=\"600\"/>"
   ]
  },
  {
   "cell_type": "code",
   "execution_count": null,
   "metadata": {},
   "outputs": [],
   "source": [
    "import numpy as np\n",
    "import matplotlib.pyplot as plt\n",
    "\n",
    "# Generate x values from 0.1 to 100 (avoiding x=0, which is undefined for log(x))\n",
    "x = np.linspace(0.1, 100, 1000)\n",
    "\n",
    "# Calculate y values using the logarithmic function\n",
    "y = np.log(x)\n",
    "\n",
    "# Create the plot\n",
    "plt.figure(figsize=(8, 6))\n",
    "plt.plot(x, y, label='y = log(x)', color=(19/255,121/255,112/255))\n",
    "plt.xlabel('x')\n",
    "plt.ylabel('y')\n",
    "plt.title('Plot of y = log(x)')\n",
    "plt.grid(False)\n",
    "#plt.legend()\n",
    "plt.xlim(0, 100)\n",
    "plt.ylim(-2, 5)  # Adjust the y-axis limits as needed\n",
    "plt.show()"
   ]
  },
  {
   "cell_type": "markdown",
   "metadata": {},
   "source": [
    "## 📚  <b> Practice 2. </b> \n",
    "Recreate the plot below. You do not need to match the colors exactly, but do not rely on <span class=\"codeb\">matplotlib</span> defaults. Note: do not worry about the equation(s); these are included to indicate which functions to plot.\n",
    "\n",
    "<img src=\"./assets/mpl_prac2.png\" alt=\"prac2\" width=\"600\"/>"
   ]
  },
  {
   "cell_type": "code",
   "execution_count": null,
   "metadata": {},
   "outputs": [],
   "source": [
    "# Generate x values from 0 to 10\n",
    "x = np.linspace(0, 10, 1000)\n",
    "\n",
    "# Define values of A\n",
    "A_values = [1, 5, 10]\n",
    "\n",
    "# Create subplots for each value of A\n",
    "plt.figure(figsize=(12, 8))\n",
    "\n",
    "for A in A_values:\n",
    "    y = A * x * np.sin(2 * np.pi * x)\n",
    "    plt.plot(x, y, label=f'A = {A}')\n",
    "\n",
    "plt.xlabel('x')\n",
    "plt.ylabel('y')\n",
    "plt.title('Plot of y = A*x*sin(2*pi*x) for Different Values of A')\n",
    "plt.grid(True)\n",
    "plt.legend()\n",
    "plt.xlim(0, 10)\n",
    "plt.ylim(-100, 100)  # Adjust the y-axis limits as needed\n",
    "plt.show()"
   ]
  },
  {
   "cell_type": "markdown",
   "metadata": {},
   "source": [
    "## 📚  <b> Practice 3. </b> \n",
    "\n",
    "Import the data from `./data/BSRN_data.csv` and plot the temperature and relative humidity over the month of October 2019 at the BSRN station. Be sure to format the timestamps and include axis labels, a title, and a legend, if necessary.\n",
    "\n"
   ]
  },
  {
   "cell_type": "code",
   "execution_count": null,
   "metadata": {},
   "outputs": [],
   "source": [
    "import pandas as pd\n",
    "import matplotlib.pyplot as plt\n",
    "\n",
    "# Load your data\n",
    "df = pd.read_csv('../data/BSRN_GOB_2019-10.csv', index_col=0, parse_dates=True)\n",
    "\n",
    "# Create a figure with two y-axes\n",
    "fig, ax1 = plt.subplots(figsize=(10, 6))\n",
    "\n",
    "# Plot temperature data on the left y-axis (ax1)\n",
    "ax1.plot(df.index, df['T_degC'], color='tab:blue', label='Temp deg-C')\n",
    "ax1.set_xlabel('Date')\n",
    "ax1.set_ylabel('Temp deg-C', color='tab:blue')\n",
    "ax1.tick_params(axis='y', labelcolor='tab:blue')\n",
    "ax1.grid(True)\n",
    "ax1.legend(loc='upper left')\n",
    "\n",
    "# Create a second y-axis on the right for RH data\n",
    "ax2 = ax1.twinx()\n",
    "ax2.plot(df.index, df['RH'], color='tab:red', label='RH')\n",
    "ax2.set_ylabel('RH', color='tab:red')\n",
    "ax2.tick_params(axis='y', labelcolor='tab:red')\n",
    "ax2.legend(loc='upper right')\n",
    "\n",
    "plt.title('Temperature and Relative Humidity Over Time')\n",
    "plt.show()\n"
   ]
  },
  {
   "cell_type": "markdown",
   "metadata": {},
   "source": [
    "## 📚 Practice 4.\n",
    "\n",
    "Saturation vapor pressure, \\( $ e^*(T_a) $ \\), is the maximum pressure of water vapor that can exist in equilibrium above a flat plane of water at a given temperature. It can be calculated from the Tetens equation:\n",
    "\n",
    "$$ e^{*}(T_{a}) = a \\times exp({\\frac{b \\cdot T_{a}}{T_{a} + c}}) $$\n",
    "\n",
    "where $ T_a $ is the air temperature in °C, $ a = 0.611  $ kPa,  $ b = 17.502  $, and  $ c = 240.97 °C  $.\n",
    "\n",
    "1. Calculate \\( $ e^*(T_a) $ \\) in kPa for all temperatures in `bsrn`.\n",
    "1. Plot temperature vs. saturation vapor pressure for the BSRN station. Be sure to format your plot appropriately and include axis labels, a title, and a legend, if necessary.\n",
    "1. Compare your plot to Figure 3-1 in Campbell and Norman (1998), included below. Do they look more or less the same?\n",
    "\n",
    "![cn](./assets/campbell_norman_fig3-1.png)\n"
   ]
  },
  {
   "cell_type": "code",
   "execution_count": null,
   "metadata": {},
   "outputs": [],
   "source": []
  },
  {
   "cell_type": "markdown",
   "metadata": {},
   "source": [
    "## 📚  <b> Practice 5. </b> \n",
    "The difference between saturation vapor pressure and ambient air pressure is called vapor pressure deficit, $\\textit{VPD}$. $\\textit{VPD}$ can be calculated from saturation vapor pressure and relative humidity, $h_r$, as follows:\n",
    "$$ \\textit{VPD} \\, = \\, e^*(T_a) \\cdot (1 \\, - \\, h_r)$$\n",
    "where $h_r$ is expressed as a fraction.\n",
    "\n",
    "1. Calculate the vapor pressure deficit for the BSRN data.\n",
    "1. Calculate the mean hourly $RH$ and $\\textit{VPD}$ over the entire month.\n",
    "1. Plot $RH$ and $\\textit{VPD}$ as a function of time of day. (for extra python points, try plotting both variables on one plot using [ax.twinx()](https://matplotlib.org/stable/gallery/subplots_axes_and_figures/two_scales.html))\n",
    "1. How does relative humidity vary throughout the day? Why?\n",
    "1. Compare your plot(s) to Figure 3-3 in Campbell and Norman (1998). How do the values of $e^*(T_a)$ and $\\textit{VPD}$ for the BSRN station compare to those at constant vapor pressure in Figure 3-3?\n",
    "\n",
    "![cn](./assets/campbell_norman_fig3-3.png)\n"
   ]
  },
  {
   "cell_type": "code",
   "execution_count": null,
   "metadata": {},
   "outputs": [],
   "source": []
  },
  {
   "cell_type": "markdown",
   "metadata": {},
   "source": [
    "<hr style=\"border-top: 1px solid gray; margin-top: 24px; margin-bottom: 1px\"></hr>"
   ]
  }
 ],
 "metadata": {
  "kernelspec": {
   "display_name": "Python 3 (ipykernel)",
   "language": "python",
   "name": "python3"
  },
  "language_info": {
   "codemirror_mode": {
    "name": "ipython",
    "version": 3
   },
   "file_extension": ".py",
   "mimetype": "text/x-python",
   "name": "python",
   "nbconvert_exporter": "python",
   "pygments_lexer": "ipython3",
   "version": "3.10.12"
  }
 },
 "nbformat": 4,
 "nbformat_minor": 4
}

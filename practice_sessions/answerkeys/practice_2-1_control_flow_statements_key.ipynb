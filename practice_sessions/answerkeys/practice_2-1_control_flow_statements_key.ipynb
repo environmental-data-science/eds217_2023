{
 "cells": [
  {
   "cell_type": "markdown",
   "metadata": {},
   "source": [
    "# Exercise 2-1: Control Flow Statements\n"
   ]
  },
  {
   "cell_type": "markdown",
   "metadata": {},
   "source": [
    "\n",
    "## 📚  <b> Practice 1. </b> \n",
    "\n",
    "In programs, <code>if</code> statements are useful for catching errors due to user input. Define two new variables based on user input: the first prompting for a temperature value and the second prompting for the units as \"F\" or \"C\". Using the equation below, write an <code>if</code> statement that converts the temperature input to °C if it was given in °F or to °F if given in °C. Recall that all variables assigned based on user input are strings. Be sure to comment your code.\n",
    "\n",
    "Formula for conversion between °F and °C:\n",
    "$$ T_{^{\\circ} C} = (T_{^{\\circ} F} - 32) \\times 5/9 $$\n",
    "\n",
    "</div>\n"
   ]
  },
  {
   "cell_type": "code",
   "execution_count": null,
   "metadata": {},
   "outputs": [],
   "source": [
    "# User input variables\n",
    "temp_in = float(input(\"Temperature: \"))\n",
    "units_in = input(\"Temperature units (F or C): \")\n",
    "\n",
    "# Convert temperature units\n",
    "if units_in == 'F':\n",
    "    temp = (temp_in - 32) * (5/9)\n",
    "    print(\"The temperature is %d°C.\" % (temp))\n",
    "else:\n",
    "    temp = (temp_in * (9/5)) + 32\n",
    "    print(\"The temperature is %d°F.\" % (temp))\n"
   ]
  },
  {
   "cell_type": "markdown",
   "metadata": {},
   "source": [
    "## 📚  <b> Practice 2. </b> \n",
    "Using nested <code>if</code> statements and your code from Practice question #1, convert the user input temperature to the opposite units (°F to °C or vice versa), print a statement to the user that reports the temperature in the converted units and indicates whether or not the temperature below freezing. \n",
    "\n",
    "Your print statement should look something like, \n",
    "\n",
    "<code>The temperature is __°C/F. It is (not) below freezing.</code>\n"
   ]
  },
  {
   "cell_type": "code",
   "execution_count": null,
   "metadata": {},
   "outputs": [],
   "source": [
    "# User input variables\n",
    "temp_in = float(input(\"Temperature: \"))\n",
    "units_in = input(\"Temperature units (F or C): \")\n",
    "\n",
    "# Convert temperature units\n",
    "if units_in == 'F':\n",
    "    temp = (temp_in - 32) * (5/9)\n",
    "    if temp < 0:\n",
    "        print(\"The temperature is %d°C. It is below freezing.\" % (temp))\n",
    "    elif temp == 0:\n",
    "        print(\"The temperature is %d°C. It is freezing.\" % (temp))\n",
    "    else:\n",
    "        print(\"The temperature is %d°C. It is not below freezing.\" % (temp))\n",
    "else:\n",
    "    temp = (temp_in * (9/5)) + 32\n",
    "    if temp < 32:\n",
    "        print(\"The temperature is %d°F. It is below freezing.\" % (temp))\n",
    "    elif temp == 32:\n",
    "        print(\"The temperature is %d°F. It is freezing.\" % (temp))\n",
    "    else:\n",
    "        print(\"The temperature is %d°F. It is not below freezing.\" % (temp))"
   ]
  },
  {
   "cell_type": "markdown",
   "metadata": {},
   "source": [
    "## 📚  <b> Practice 3. </b> \n",
    "\n",
    "1. Create a list of the six organic elements sorted in alphabetical order and then print each element in the list.\n",
    "\n",
    "2. Given your sorted <code>org_elements</code> list and the corresponding list of atomic masses given in the cell below, use <code>enumerate()</code> in a <code>for</code> loop to print a formatted statement that expresses the atomic mass of of each element. \n",
    "\n",
    "Your formatted print statement should include the name of the element, the atomic mass rounded to 2 decimal places, and units."
   ]
  },
  {
   "cell_type": "code",
   "execution_count": null,
   "metadata": {},
   "outputs": [],
   "source": [
    "# Define org_elements\n",
    "org_elements = ['carbon', 'oxygen', 'hydrogen','phosphorous', 'sulfur','nitrogen']\n",
    "\n",
    "org_elements.sort()\n",
    "\n",
    "# Print each element in org_elements\n",
    "for element in org_elements:\n",
    "    print(element)\n",
    "\n",
    "# Define list of atomic masses of 6 organic elements\n",
    "atomic_mass = [12.011, 1.00784, 14.0067, 15.999, 30.97376, 32.065]  # g/mol\n",
    "\n",
    "# Iterate through org_elements + print the atomic mass of each element\n",
    "for i,element in enumerate(org_elements):\n",
    "    mass = atomic_mass[i]\n",
    "    print('The atomic mass of %s is %.2f g/mol.' % (element,mass))"
   ]
  },
  {
   "cell_type": "markdown",
   "metadata": {},
   "source": [
    "Another solution using `zip()` is given in the cell below."
   ]
  },
  {
   "cell_type": "code",
   "execution_count": null,
   "metadata": {},
   "outputs": [],
   "source": [
    "for element,mass in zip(org_elements,atomic_mass):\n",
    "    print('The atomic mass of %s is %.2f g/mol.' % (element,mass))"
   ]
  },
  {
   "cell_type": "markdown",
   "metadata": {},
   "source": [
    "## 📚  <b> Practice 4. </b> \n",
    "The cell below contains monthly global land-ocean surface temperature in °F for each month during the years 2015-2022. \n",
    "\n",
    "Using  <code>enumerate()</code>, <code>zip()</code>, a nested <code>for</code> loop, or some combination of the three:\n",
    "\n",
    "<ol class=\"alpha\">\n",
    "<li> Calculate the monthly global land-ocean surface temperature anomalies (deviation from the mean) in °C for 2015-2018. The mean global land-ocean surface temperature calculated over the 20th century was 15.6°C.</li>\n",
    "<li> Create a new list with the mean monthly global surface temperature anomalies in °C for 2015-2023 (i.e. calculate the mean temperature anomaly for each month and put these values in a list). Use the command <code>np.mean()</code> to calculate mean values. </li> \n",
    "<li> Print each monthly mean value with the name of the month and units. </li>\n",
    "</ol>\n",
    "</div>"
   ]
  },
  {
   "cell_type": "code",
   "execution_count": 1,
   "metadata": {},
   "outputs": [],
   "source": [
    "# Import numpy for mean calculations\n",
    "import numpy as np\n",
    "\n",
    "tempF_2015 = [61.628, 61.7, 61.808, 61.448, 61.52, 61.538, 61.394, 61.52, 61.61, 62.042, 61.988, 62.168]\n",
    "tempF_2016 = [62.186, 62.546, 62.528, 62.06, 61.79, 61.52, 61.61, 61.916, 61.718, 61.682, 61.736, 61.628]\n",
    "tempF_2017 = [61.916, 62.132, 62.168, 61.772, 61.718, 61.376, 61.556, 61.646, 61.466, 61.7, 61.664, 61.754]\n",
    "tempF_2018 = [61.556, 61.61, 61.664, 61.682, 61.556, 61.466, 61.556, 61.448, 61.52, 61.916, 61.556, 61.718]\n",
    "tempF_2019 = [61.754, 61.79, 62.186, 61.898, 61.61, 61.7, 61.772, 61.79, 61.754, 61.898, 61.862, 62.042]\n",
    "tempF_2020 = [62.186, 62.312, 62.186, 62.114, 61.898, 61.736, 61.7, 61.646, 61.862, 61.664, 62.06, 61.538]\n",
    "tempF_2021 = [61.538, 61.232, 61.664, 61.43, 61.484, 61.592, 61.736, 61.556, 61.736, 61.88, 61.772, 61.61]\n",
    "\n",
    "# List of yearly lists (may or may not be useful)\n",
    "tempF_list = [tempF_2015, tempF_2016, tempF_2017, tempF_2018, tempF_2019, tempF_2020, tempF_2021]\n",
    "\n",
    "# List of years (probably useful)\n",
    "years = [2015, 2016, 2017, 2018, 2019, 2020, 2021]\n"
   ]
  },
  {
   "cell_type": "code",
   "execution_count": 25,
   "metadata": {},
   "outputs": [
    {
     "name": "stdout",
     "output_type": "stream",
     "text": [
      "[0.9685714285714274, 1.0128571428571427, 1.082857142857143, 0.9400000000000011, 0.8742857142857157, 0.8228571428571428, 0.8542857142857135, 0.8700000000000002, 0.8814285714285724, 0.9700000000000006, 0.9585714285714284, 0.9442857142857155]\n"
     ]
    }
   ],
   "source": [
    "# Get temps in C and anomalies in C\n",
    "tempC_list = []\n",
    "anomC_list = []\n",
    "\n",
    "mean_temp = 15.6\n",
    "\n",
    "for year_data in tempF_list:\n",
    "    year_C = [(value-32) * 5/9 for value in year_data]\n",
    "    year_C_anom = [value - mean_temp for value in year_C]\n",
    "    tempC_list.append(year_C)\n",
    "    anomC_list.append(year_C_anom)\n",
    "\n",
    "monthly_anomalies = []\n",
    "for i in range(12):\n",
    "    month_vals = []\n",
    "    for j in range(7):\n",
    "        month_vals.append(anomC_list[j][i])\n",
    "    monthly_anomalies.append(np.mean(month_vals))\n",
    "\n",
    "print(monthly_anomalies)\n"
   ]
  },
  {
   "cell_type": "code",
   "execution_count": 27,
   "metadata": {},
   "outputs": [
    {
     "name": "stdout",
     "output_type": "stream",
     "text": [
      "[0.968571428571428, 1.0128571428571451, 1.0828571428571419, 0.9399999999999995, 0.8742857142857137, 0.8228571428571403, 0.8542857142857105, 0.8700000000000028, 0.881428571428577, 0.9700000000000006, 0.9585714285714264, 0.944285714285714]\n"
     ]
    },
    {
     "data": {
      "text/plain": [
       "<BarContainer object of 12 artists>"
      ]
     },
     "execution_count": 27,
     "metadata": {},
     "output_type": "execute_result"
    },
    {
     "data": {
      "image/png": "[encoded data removed]",
      "text/plain": [
       "<Figure size 640x480 with 1 Axes>"
      ]
     },
     "metadata": {},
     "output_type": "display_data"
    }
   ],
   "source": [
    "avg_month_F = []\n",
    "avg_month_C = []\n",
    "avg_month_anom = []\n",
    "\n",
    "for i in zip(tempF_2015, tempF_2016, tempF_2017, tempF_2018, tempF_2019, tempF_2020, tempF_2021):\n",
    "    avg_F = np.mean(i)\n",
    "    avg_C = (avg_F - 32) * 5/9\n",
    "    avg_month_F.append(avg_F)\n",
    "    avg_month_C.append(avg_C)\n",
    "    avg_month_anom.append(avg_C-15.6)\n",
    "\n",
    "print(avg_month_anom)\n",
    "months = ['Jan', 'Feb', 'Mar', 'Apr', 'May', 'Jun', 'Jul', 'Aug', 'Sep', 'Oct', 'Nov', 'Dec']\n",
    "import matplotlib.pyplot as plt \n",
    "\n",
    "plt.bar(months, avg_month_anom)"
   ]
  },
  {
   "cell_type": "code",
   "execution_count": null,
   "metadata": {},
   "outputs": [],
   "source": []
  },
  {
   "cell_type": "code",
   "execution_count": null,
   "metadata": {},
   "outputs": [],
   "source": [
    "# Alternative:\n",
    "monthly_means = []\n",
    "for anomC_15,anomC_16,anomC_17,anomC_18,anomC_19,anomC_20,anomC_21 in zip(*anomC_list):\n",
    "# Note: * is an \"unpacking\" operator that extracts each sublist of anomC_list making them iterables.\n",
    "# for i,(anomC_15,anomC_16,anomC_17,anomC_18) in enumerate(zip(anomC_list[0],\n",
    "#                                                              anomC_list[1],\n",
    "#                                                              anomC_list[2],\n",
    "#                                                              anomC_list[3])):\n",
    "    # Put month i values in a list\n",
    "    monthly = [anomC_15, anomC_16, anomC_17, anomC_18, anomC_19, anomC_20, anomC_21]\n",
    "    # Calculate mean for month i\n",
    "    monthly_mean = np.mean(monthly)\n",
    "    # Add mean for month i to list of means\n",
    "    monthly_means.append(round(monthly_mean,4))\n",
    "# Print list of mean monthly temperature anomalies, 2015-2021.\n",
    "print(f\"Monthly means (alternative approach): {monthly_means}\")\n",
    "\n"
   ]
  },
  {
   "cell_type": "code",
   "execution_count": null,
   "metadata": {},
   "outputs": [],
   "source": [
    "# Anna + CoPilot:\n",
    "vals = []\n",
    "for f15, f16, f17, f18, f19, f20, f21 in zip(tempF_2015, tempF_2016, tempF_2017, tempF_2018, tempF_2019, tempF_2020, tempF_2021):\n",
    "    month_mean = np.mean([f15, f16, f17, f18, f19, f20, f21])\n",
    "    month_mean_c = (month_mean - 32) * 5/9\n",
    "    month_mean_anom = month_mean_c - 15.6\n",
    "    vals = vals + [month_mean_anom]\n",
    "vals"
   ]
  },
  {
   "cell_type": "code",
   "execution_count": null,
   "metadata": {},
   "outputs": [],
   "source": [
    "# 4c. Print mean temperature anomalies by month\n",
    "print('Practice 4c')\n",
    "\n",
    "months = ['January', 'February', 'March', 'April', 'May', 'June', \n",
    "          'July', 'August', 'September', 'October', 'November', 'December']\n",
    "\n",
    "for month,mean in zip(months,monthly_means):\n",
    "    print(f'Mean {month} temperature anomaly, {min(years)}-{max(years)}: {mean:.4f}°C')\n"
   ]
  },
  {
   "cell_type": "markdown",
   "metadata": {},
   "source": [
    "## 📚  Practice 5.\n",
    "\n",
    "Use a list comprehension to print a list of all months that had an anomaly above the average monthly anomaly.\n",
    "\n",
    "\n",
    "Some helpful code is provided below:\n",
    "```python\n",
    "months = ['January', 'February', 'March', 'April', 'May', 'June', 'July', 'August', 'September', 'October', 'November', 'December']\n",
    "\n",
    "average_anomaly = np.mean(mean_monthly_anomalies)\n",
    "\n",
    "```\n",
    "Recall that list comprehensions can contain <code>if</code> statements. For example:\n",
    "\n",
    "[<code>item</code> for <code>item</code> in <code>list</code> if <code>item</code> > <code>value</code>]\n",
    "\n",
    "And they can also contain enumerate statements:\n",
    "\n",
    "[<code>item</code> for <code>index,item</code> in <code>enumerate(list)</code> if <code>other_list[index]</code> > <code>value</code>]"
   ]
  },
  {
   "cell_type": "code",
   "execution_count": null,
   "metadata": {},
   "outputs": [],
   "source": [
    "months = ['January', 'February', 'March', 'April', \n",
    "          'May', 'June', 'July', 'August', 'September', \n",
    "          'October', 'November', 'December']\n",
    "\n",
    "avg_anomaly = np.mean(monthly_means)\n",
    "\n",
    "print(\"Months with above average temperature anomalies:\")\n",
    "[\n",
    " print(month) for i,month in enumerate(months) \n",
    " if monthly_means[i] > avg_anomaly\n",
    "]\n"
   ]
  },
  {
   "cell_type": "markdown",
   "metadata": {},
   "source": [
    "<hr style=\"border-top: 1px solid gray; margin-top: 24px; margin-bottom: 1px\"></hr>"
   ]
  }
 ],
 "metadata": {
  "kernelspec": {
   "display_name": "Python 3 (ipykernel)",
   "language": "python",
   "name": "python3"
  },
  "language_info": {
   "codemirror_mode": {
    "name": "ipython",
    "version": 3
   },
   "file_extension": ".py",
   "mimetype": "text/x-python",
   "name": "python",
   "nbconvert_exporter": "python",
   "pygments_lexer": "ipython3",
   "version": "3.10.12"
  }
 },
 "nbformat": 4,
 "nbformat_minor": 4
}

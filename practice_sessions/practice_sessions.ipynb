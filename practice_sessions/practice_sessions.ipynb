{
 "cells": [
  {
   "cell_type": "markdown",
   "metadata": {},
   "source": [
    "# EDS 217 Practice Sessions\n",
    "\n",
    "This page contains links to practice sessions for EDS 217.\n",
    "\n",
    "### [Practice Session 1-1: Variables](Practice1-1_Variables.ipynb)\n",
    "\n",
    "### [Practice Session 1-2: Lists](Practice1-2_Lists.ipynb)\n",
    "\n",
    "### [Practice Session 1-3: Control Flow Statements](Practice1-3_ControlFlowStatements.ipynb)\n",
    "\n",
    "### [Practice Session 1-4: Structured Data](Practice1-4_StructuredData.ipynb)\n"
   ]
  }
 ],
 "metadata": {
  "language_info": {
   "name": "python"
  },
  "orig_nbformat": 4
 },
 "nbformat": 4,
 "nbformat_minor": 2
}

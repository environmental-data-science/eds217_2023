{
 "cells": [
  {
   "cell_type": "markdown",
   "metadata": {},
   "source": [
    "| [⬅️ Previous Session](practice_3-1_numpy.ipynb) | [🏠 Course Home](../index.ipynb) | [➡️ Next Session](practice_5-1_matplotlib.ipynb) |\n",
    "\n",
    "# Practice 4-1: Pandas 🐼\n"
   ]
  },
  {
   "cell_type": "code",
   "execution_count": 4,
   "metadata": {},
   "outputs": [],
   "source": [
    "import pandas as pd"
   ]
  },
  {
   "cell_type": "markdown",
   "metadata": {},
   "source": [
    "\n",
    "## 📚  <b> Practice 1. </b> \n",
    "<ol class=\"alpha\">\n",
    "    <li> Use a list of lists to construct a DataFrame named <code>df1</code> containing the data in the table below.</li>\n",
    "    \n",
    "| River       | Length $(\\text{km})$ | Drainage area $(\\text{km}^2)$ |\n",
    "|-------------|----------------------|------------------------------|\n",
    "| Amazon      | 6400                 | 7,050,000                    |\n",
    "| Congo       | 4371                 | 4,014,500                    |\n",
    "| Yangtze     | 6418                 | 1,808,500                    |\n",
    "| Mississippi | 3730                 | 3,202,230                    |\n",
    "\n",
    " <br>\n",
    "    <li> Use a <code>dict</code> to construct a DataFrame named <code>df2</code> containing the data in the table below.</li>\n",
    "\n",
    "\n",
    "| River   | Length $(\\text{km})$ | Drainage area $(\\text{km}^2)$ |\n",
    "|---------|----------------------|------------------------------|\n",
    "| Zambezi | 2574                 | 1,331,000                    |\n",
    "| Mekong  | 4023                 | 811,000                      |\n",
    "| Murray  | 2508                 | 1,061,469                    |\n",
    "| Rhône   | 813                  | 98,000                       |\n",
    "| Cubango | 1056                 | 530,000                      |\n",
    "\n",
    "\n",
    " <br>\n",
    "</ol>\n",
    "    "
   ]
  },
  {
   "cell_type": "code",
   "execution_count": null,
   "metadata": {},
   "outputs": [],
   "source": []
  },
  {
   "cell_type": "markdown",
   "metadata": {},
   "source": [
    "## Import the data for our practice session"
   ]
  },
  {
   "cell_type": "code",
   "execution_count": 5,
   "metadata": {},
   "outputs": [],
   "source": [
    "# Import data\n",
    "bsrn = pd.read_csv('../data/BSRN_GOB_2019-10.csv')"
   ]
  },
  {
   "cell_type": "markdown",
   "metadata": {},
   "source": [
    "## 📚  Practice 2. Using the DataFrame <code>bsrn</code>:\n",
    "<ol>\n",
    "    <li type=\"a\"> Print a list of column names. </li>\n",
    "    <li type=\"a\"> How many values are there in the entire DataFrame? </li>\n",
    "    <li type=\"a\"> What is the data type of the first column? </li>\n",
    "</ol>"
   ]
  },
  {
   "cell_type": "code",
   "execution_count": null,
   "metadata": {},
   "outputs": [],
   "source": []
  },
  {
   "cell_type": "markdown",
   "metadata": {},
   "source": [
    "\n",
    "## 📚  Practice 3.\n",
    "<ol class=\"alpha\">\n",
    "    <li> Create a new DataFrame containing the first record for each day and the following columns: the timestamp of the record, incoming shortwave radiation, direct and diffuse radiation, and incoming longwave radiation. (Hint: the BSRN station collects data every minute). </li>\n",
    "    <li> Create a new Series containing the temperature values every hour at the top of the hour. </li>\n",
    "</ol>\n"
   ]
  },
  {
   "cell_type": "code",
   "execution_count": null,
   "metadata": {},
   "outputs": [],
   "source": []
  },
  {
   "cell_type": "markdown",
   "metadata": {},
   "source": [
    "\n",
    "<div class=\"run\">\n",
    "    ▶️ <b> Run the cell below. </b>\n",
    "</div>"
   ]
  },
  {
   "cell_type": "code",
   "execution_count": 6,
   "metadata": {},
   "outputs": [],
   "source": [
    "# Convert bsrn.DATE column to datetime objects\n",
    "bsrn['DATE'] = pd.to_datetime(bsrn.DATE)  # Note: overwriting a column like this is NOT recommended.\n",
    "\n",
    "# Set bsrn.DATE as the DataFrame index\n",
    "bsrn.set_index('DATE',inplace=True)"
   ]
  },
  {
   "cell_type": "markdown",
   "metadata": {},
   "source": [
    "## 📚  <b> Practice 4. \n",
    "</b> Calculate the mean incoming shortwave, outgoing shortwave, incoming longwave, and outgoing longwave radiation over the entire month."
   ]
  },
  {
   "cell_type": "code",
   "execution_count": null,
   "metadata": {},
   "outputs": [],
   "source": []
  },
  {
   "cell_type": "markdown",
   "metadata": {},
   "source": [
    "## 📚  <b> Practice 5. </b>\n",
    "<ol>\n",
    "    <li type=\"a\"> Add a column <code style='font-weight:normal'>'NET_SW'</code> to <code style='font-weight:normal'>bsrn</code> with the net shortwave radiation. </li>\n",
    "    <li type=\"a\"> Add a column <code style='font-weight:normal'>'NET_LW'</code> to <code style='font-weight:normal'>bsrn</code> with the net longwave radiation. </li>\n",
    "    <li type=\"a\"> Add a column <code style='font-weight:normal'>'NET_RAD'</code> to <code style='font-weight:normal'>bsrn</code> with the net total radiation. \n",
    "    \n",
    "Net radiation is given by the following equation: </li>\n",
    "\n",
    "$$R^{}_{N} \\, = \\,  R^{\\, \\downarrow}_{SW} \\, - \\,  R^{\\, \\uparrow}_{SW} \\, + \\, R^{\\, \\downarrow}_{LW} \\, - \\,  R^{\\, \\uparrow}_{LW}$$\n",
    "    \n",
    "where $R^{\\, \\downarrow}_{SW}$ and $R^{\\, \\uparrow}_{SW}$ are incoming and outgoing shortwave radiation, respectively, and $R^{\\, \\downarrow}_{LW}$ and $R^{\\, \\uparrow}_{LW}$ are incoming and outgoing longwave radiation, respectively.\n",
    "\n",
    "\n",
    "<li type=\"a\"> Create a new DataFrame with the day of the month and daily mean values of shortwave incoming, shortwave outgoing, longwave incoming, longwave outgoing radiation, and net total radiation. (Hint: use masking!).</li>\n",
    "</ol>"
   ]
  },
  {
   "cell_type": "code",
   "execution_count": null,
   "metadata": {},
   "outputs": [],
   "source": []
  },
  {
   "cell_type": "markdown",
   "metadata": {},
   "source": [
    "## 📚  <b> Practice 6. </b> \n",
    "<ol class=\"alpha\">\n",
    "    <li> Concatenate <code>df1</code> and <code>df2</code> into a new DataFrame with all 9 rivers.</li>\n",
    "    <li> Create a new DataFrame <code>rivers</code> with the discharge, mouth, source, and continent information and add this to your DataFrame from (a) to produce a DataFrame with all of the data in the table below.</li>\n",
    "</ol>\n",
    "\n",
    "| River | Length $(\\text{km})$ | Drainage area $(\\text{km}^2)$ | Discharge $(\\text{m}^2/\\text{s})$ | Mouth | Source | Continent |\n",
    "|-------|----------------------|------------------------------|----------------------------------|-------|--------|-----------|\n",
    "| Amazon | 6400 | 7,050,000 | 209,000 | Atlantic Ocean | Rio Mantaro | South America |\n",
    "| Congo | 4371 | 4,014,500 | 41,200 | Atlantic Ocean | Lualaba River | Africa |\n",
    "| Yangtze | 6418 | 1,808,500 | 30,166 | East China Sea | Jianggendiru Glacier | Asia |\n",
    "| Mississippi | 3730 | 3,202,230 | 16,792 | Gulf of Mexico | Lake Itasca | North America |\n",
    "| Zambezi | 2574 | 1,331,000 | 3,400 | Indian Ocean | Miombo Woodlands | Africa |\n",
    "| Mekong | 4023 | 811,000 | 16,000 | South China Sea | Lasagongma Spring | Asia |\n",
    "| Murray | 2508 | 1,061,469 | 767 | Southern Ocean | Australian Alps | Oceania |\n",
    "| Rhône | 813 | 98,000 | 1,710 | Mediterranean Sea | Rhône Glacier | Europe |\n",
    "| Cubango | 1056 | 530,000 | 475 | Okavango Delta | Bié Plateau | Africa |\n",
    "\n"
   ]
  },
  {
   "cell_type": "code",
   "execution_count": null,
   "metadata": {},
   "outputs": [],
   "source": []
  },
  {
   "cell_type": "markdown",
   "metadata": {},
   "source": [
    "##  📚  <b> Practice 7. </b> \n",
    "Export your <code>rivers</code> DataFrame to a CSV file in the <code>exports</code> folder. "
   ]
  },
  {
   "cell_type": "code",
   "execution_count": null,
   "metadata": {},
   "outputs": [],
   "source": []
  },
  {
   "cell_type": "markdown",
   "metadata": {},
   "source": [
    "<hr style=\"border-top: 1px solid gray; margin-top: 24px; margin-bottom: 1px\"></hr>"
   ]
  }
 ],
 "metadata": {
  "kernelspec": {
   "display_name": "Python 3",
   "language": "python",
   "name": "python3"
  },
  "language_info": {
   "codemirror_mode": {
    "name": "ipython",
    "version": 3
   },
   "file_extension": ".py",
   "mimetype": "text/x-python",
   "name": "python",
   "nbconvert_exporter": "python",
   "pygments_lexer": "ipython3",
   "version": "3.10.12"
  }
 },
 "nbformat": 4,
 "nbformat_minor": 4
}

{
 "cells": [
  {
   "cell_type": "markdown",
   "metadata": {},
   "source": [
    "| [⬅️ Previous Session](practice_1-2_lists.ipynb) | [🏠 Course Home](../index.ipynb) | [➡️ Next Session](practice_2-2_structured_data.ipynb) |\n",
    "\n",
    "# Practice 2-1: Control Flow Statements\n",
    "\n",
    "![control.jpeg](assets/control.jpeg)\n",
    "\n",
    "<hr style=\"border-top: 1px solid gray; margin-top: 24px; margin-bottom: 1px\"></hr>"
   ]
  },
  {
   "cell_type": "markdown",
   "metadata": {},
   "source": [
    "\n",
    "## 📚  Practice 1\n",
    "\n",
    "In programs, <code>if</code> statements are useful for catching errors due to user input. \n",
    "\n",
    "Define two new variables based on user input using the `input` function. \n",
    "\n",
    " The first `input` should prompt for a temperature value and the second `input` should prompting for the units as \"F\" or \"C\". \n",
    "\n",
    "Using the equation below, write an <code>if</code> statement that converts the temperature input to °C if it was given in °F or to °F if given in °C. Recall that all variables assigned based on user input are strings (type is `str`), so you will need to convert the result of your first `input` statement into a `float`. \n",
    "\n",
    "Be sure to comment your code.\n",
    "    \n",
    "Formula for conversion between °F and °C:\n",
    "    $$T_{^{\\circ} C} = (T_{^{\\circ} F} - 32) \\times 5/9$$\n",
    "\n"
   ]
  },
  {
   "cell_type": "markdown",
   "metadata": {},
   "source": [
    "Describe your strategy here before attempting to write any code: "
   ]
  },
  {
   "cell_type": "code",
   "execution_count": null,
   "metadata": {},
   "outputs": [],
   "source": [
    "# Add your code here:\n"
   ]
  },
  {
   "cell_type": "markdown",
   "metadata": {},
   "source": [
    "## 📚  Practice 2. \n",
    "\n",
    "Using nested <code>if</code> statements and your code from Practice question #1, convert the user input temperature to the opposite units (°F to °C or vice versa), print a statement to the user that reports the temperature in the converted units and indicates whether or not the temperature below freezing. \n",
    "\n",
    "Your print statement should look something like:\n",
    "\n",
    "<code>The temperature is {__}°C/F. It is (not) below freezing.</code>\n",
    "\n"
   ]
  },
  {
   "cell_type": "markdown",
   "metadata": {},
   "source": [
    "Describe your strategy here:\n"
   ]
  },
  {
   "cell_type": "code",
   "execution_count": 11,
   "metadata": {},
   "outputs": [],
   "source": [
    "# Add your code here:\n"
   ]
  },
  {
   "cell_type": "markdown",
   "metadata": {},
   "source": [
    "## 📚  <b> Practice 3. </b> \n",
    "\n",
    "<ol>\n",
    "<li type=\"a\"> The six organic elements are 'C', 'H', 'N', 'O', 'P', and 'S'. Look up their atomic masses and create two lists; one containing the list of elements and the other containing their corresponding masses. \n",
    "\n",
    "\n",
    "<li type=\"a\"> Use <code>enumerate()</code> in a <code>for</code> loop to print a formatted statement that expresses the atomic mass of of each element. Your formatted `print` statement inside the for `loop` should include the name of the element and it's corresponding atomic mass.\n",
    "\n"
   ]
  },
  {
   "cell_type": "markdown",
   "metadata": {},
   "source": [
    "Describe your strategy here:\n",
    "\n"
   ]
  },
  {
   "cell_type": "code",
   "execution_count": 12,
   "metadata": {},
   "outputs": [],
   "source": [
    "# Add your code here:\n"
   ]
  },
  {
   "cell_type": "markdown",
   "metadata": {},
   "source": [
    "## 📚  <b> Practice 4. </b> \n",
    "The cell below contains monthly global land-ocean surface temperature in °F for each month during the years 2015-2021. Run the cell before starting on the problem below.\n",
    "\n"
   ]
  },
  {
   "cell_type": "code",
   "execution_count": 16,
   "metadata": {},
   "outputs": [],
   "source": [
    "# Import numpy for mean calculations\n",
    "import numpy as np\n",
    "import matplotlib.pyplot as plt\n",
    "# NOTE:\n",
    "# np.mean can be used to take the average of a list:\n",
    "\n",
    "tempF_2015 = [61.628,   61.7, 61.808, 61.448,  61.52, 61.538, 61.394,  61.52,  61.61, 62.042, 61.988, 62.168]\n",
    "tempF_2016 = [62.186, 62.546, 62.528,  62.06,  61.79,  61.52,  61.61, 61.916, 61.718, 61.682, 61.736, 61.628]\n",
    "tempF_2017 = [61.916, 62.132, 62.168, 61.772, 61.718, 61.376, 61.556, 61.646, 61.466,   61.7, 61.664, 61.754]\n",
    "tempF_2018 = [61.556,  61.61, 61.664, 61.682, 61.556, 61.466, 61.556, 61.448,  61.52, 61.916, 61.556, 61.718]\n",
    "tempF_2019 = [61.754,  61.79, 62.186, 61.898,  61.61,   61.7, 61.772,  61.79, 61.754, 61.898, 61.862, 62.042]\n",
    "tempF_2020 = [62.186, 62.312, 62.186, 62.114, 61.898, 61.736,   61.7, 61.646, 61.862, 61.664,  62.06, 61.538]\n",
    "tempF_2021 = [61.538, 61.232, 61.664,  61.43, 61.484, 61.592, 61.736, 61.556, 61.736,  61.88, 61.772,  61.61]\n",
    "\n",
    "# List of yearly lists (may or may not be useful)\n",
    "tempF_list = [tempF_2015, tempF_2016, tempF_2017, tempF_2018, tempF_2019, tempF_2020, tempF_2021]\n",
    "\n",
    "# List of years (probably useful)\n",
    "years = [2015, 2016, 2017, 2018, 2019, 2020, 2021]"
   ]
  },
  {
   "cell_type": "markdown",
   "metadata": {},
   "source": [
    "\n",
    "<ol start=\"b\">\n",
    "\n",
    "<li type=\"a\"> Use a <code>zip</code> command to create a <code>for</code> loop that prints out the data across all years for each month. Modify the code below so it would work for your problem:\n",
    "\n",
    "```python\n",
    "\n",
    "# The following lists include exam scores for 10 students across \n",
    "# two assessments. Each item in the list corresponds to the same student.\n",
    "#\n",
    "# For example, the third student's grades are:\n",
    "#       midterm_grades[2] and final_grades[2] and \n",
    "\n",
    "midterm_grades = [88, 90, 97, 80, 85,  96, 79, 88, 85, 95]\n",
    "final_grades =    [99, 87, 93, 86, 81, 100, 87, 91, 76, 90]\n",
    "homework_grades = [90, 98, 96, 89, 92, 99, 90, 87, 96, 100]\n",
    "\n",
    "# Use zip to print each student's grades:\n",
    "for midterm_grade, final_grade, homework_grade in zip(midterm_grades, final_grades, homework_grades):\n",
    "    print(f\"Midterm: {midterm_grade}, Final: {final_grade}, Homework: {homework_grade}\")\n",
    "\n",
    "```\n"
   ]
  },
  {
   "cell_type": "code",
   "execution_count": null,
   "metadata": {},
   "outputs": [],
   "source": [
    "# Add your code here:\n"
   ]
  },
  {
   "cell_type": "markdown",
   "metadata": {},
   "source": [
    "<ol start=2>\n",
    "<li type=\"a\"> Alter your <code>for</code> loop so that instead of printing the values, you instead obtain an average of each month's temperature across all the years of data. Again, here's what that would look like for our student grades:\n",
    "\n",
    "Note: The loop below puts all the iterators produced by the `zip` command into a single temporary variable, `student_grades`. Storing them all together in one collection makes it easier to average the values.\n",
    "\n",
    "```python\n",
    "\n",
    "avg_student_grades = []\n",
    "for student_grades in zip(midterm_grades, final_grades, homework_grades):\n",
    "    print(f\"This student's grades: {student_grades}\")\n",
    "    # Take the mean using np.mean:\n",
    "    this_student_average = np.mean(student_grades)\n",
    "    # Append this average to the list of avg_student_grades:\n",
    "    avg_student_grades.append(this_student_average)\n",
    "\n",
    "```\n"
   ]
  },
  {
   "cell_type": "code",
   "execution_count": null,
   "metadata": {},
   "outputs": [],
   "source": [
    "# Add your code here:\n"
   ]
  },
  {
   "cell_type": "markdown",
   "metadata": {},
   "source": [
    "<ol start=3>\n",
    "\n",
    "<li type=\"a\"> The mean global surface temperature calculated over the 20th century was 15.6°C. Convert the average monthly temperatures you obtained in the previous step from Farenheit to Celcius. In addition, subtract the mean global surface temperature from each average value to determine the average monthly anomaly from the global average temperature.\n"
   ]
  },
  {
   "cell_type": "code",
   "execution_count": null,
   "metadata": {},
   "outputs": [],
   "source": [
    "# Add your code here:\n"
   ]
  },
  {
   "cell_type": "markdown",
   "metadata": {},
   "source": [
    "<ol start=4>\n",
    "<li type=\"a\"> Create a new list containing month labels:\n",
    "\n",
    "```python\n",
    "months = ['Jan', 'Feb', 'Mar', 'Apr', 'May', 'Jun', 'Jul', 'Aug', 'Sep', 'Oct', 'Nov', 'Dec']\n",
    "\n",
    "```\n",
    "<li type=\"a\"> Use this list of `months` and your calculated average monthly anomalies to create a bar graph showing the average anomalies for each month. The `plt.bar` function requires at least two arguments: `x` and `y` values. Using our student grade examples, the following code would make a bar graph showing each student's average grade:\n",
    "\n",
    "```python\n",
    "\n",
    "# Use range to create x data (student 1-10)\n",
    "plt.bar(range(1,11), avg_student_grades)\n",
    "\n",
    "# Add axes labels\n",
    "plt.xlabel('Student Number')\n",
    "plt.ylabel('Average Grade')\n",
    "\n",
    "# Add a title\n",
    "plt.title('Average Student Grades')\n",
    "\n",
    "```\n"
   ]
  },
  {
   "cell_type": "code",
   "execution_count": null,
   "metadata": {},
   "outputs": [],
   "source": [
    "# Add your code here:\n"
   ]
  },
  {
   "cell_type": "markdown",
   "metadata": {},
   "source": [
    "<ol start=6>\n",
    "<li type=\"a\"> Does the graph look like what you expected? Why do you think you see the patterns that emerge from this analysis?\n",
    "\n",
    "</ol>\n",
    "</div>"
   ]
  },
  {
   "cell_type": "markdown",
   "metadata": {},
   "source": [
    "Write your answer here: "
   ]
  }
 ],
 "metadata": {
  "kernelspec": {
   "display_name": "eds217_2023",
   "language": "python",
   "name": "python3"
  },
  "language_info": {
   "codemirror_mode": {
    "name": "ipython",
    "version": 3
   },
   "file_extension": ".py",
   "mimetype": "text/x-python",
   "name": "python",
   "nbconvert_exporter": "python",
   "pygments_lexer": "ipython3",
   "version": "3.10.12"
  },
  "orig_nbformat": 4
 },
 "nbformat": 4,
 "nbformat_minor": 2
}

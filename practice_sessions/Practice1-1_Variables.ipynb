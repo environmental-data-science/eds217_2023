{
 "cells": [
  {
   "cell_type": "markdown",
   "metadata": {},
   "source": [
    "\n",
    "# Practice 1.1: Variables & Operators\n",
    "\n",
    "![variables.jpg](../exercises/assets/variables.jpg)\n",
    "\n",
    "\n",
    "<hr style=\"border-top: 1px solid gray; margin-top: 24px; margin-bottom: 1px\"></hr>"
   ]
  },
  {
   "cell_type": "markdown",
   "metadata": {},
   "source": [
    "\n",
    "### <div class=\"practice\"> 📚 Practice 1.\n",
    "The laws of conservation state that in a closed system, mass, energy, and momentum can be neither created nor destroyed. Thus, the energy coming into the Earth's surface (via solar radiation) must be equal to the energy going out from the Earth's surface. The energy coming in via solar radiation can be written:\n",
    "$$ R_{\\text{in}} = G_s \\pi {r_{e}}^2 (1 - \\alpha) $$\n",
    "where $ r_e $ is the radius of the Earth; $ \\alpha $ is the Earth's albedo, a fraction corresponding to the amount of incident radiation that is reflected; and $ G_s $ is the Solar Constant, or the flux density of the solar radiation at the Earth's surface. The Solar Constant can be calculated according to the equation\n",
    "$$ G_s = \\sigma {T_{sun}}^4 \\left( \\frac{4 \\pi {r_{sun}}^2}{4 \\pi d^2} \\right) $$\n",
    "where $ \\sigma $ is the Stefan-Boltzmann constant, $ T_{sun} $ is the temperature of the sun, $ r_{sun} $ is the radius of the sun, and $ d $ is the average distance between the sun and the Earth. The outgoing radiation from the Earth is given by the Stefan-Boltzmann law:\n",
    "$$ R_{\\text{out}} = \\varepsilon \\sigma A_{e} {T_e}^4 $$\n",
    "where $ \\varepsilon $ is the emissivity of the Earth, $ A_e $ is the surface area of the Earth approximated as a sphere, and $ T_e $ is the temperature of the Earth's surface.\n",
    "\n",
    "**Given**:\n",
    "- $ \\sigma = 5.67 \\times 10^{-8} $ W m $^{-2}$ K $^{-4}$\n",
    "- Radius of the sun: $ 6.957 \\times 10^5 $ km\n",
    "- Temperature of the sun: 5778 K\n",
    "- Average distance between the sun and the Earth: $ 1.5 \\times 10^8 $ km\n",
    "- Earth's albedo: 0.3\n",
    "- Emissivity of the Earth: 1.0\n",
    "\n",
    "1. Calculate the Solar Constant in W m $^{-2}$. Print your answer rounded to 3 decimal places.\n",
    "2. Calculate the temperature of the Earth's surface in °C. Print your answer as both a float and an integer.\n",
    "3. The actual global surface temperature of the Earth is about 14.6°C. What accounts for the difference between the answer you calculated above and the actual surface temperature?\n",
    "\n",
    "**Note**: Show your work by including comments in your code and assigning variables.\n",
    "</div>"
   ]
  },
  {
   "cell_type": "markdown",
   "metadata": {},
   "source": [
    "Describe your strategy here."
   ]
  },
  {
   "cell_type": "code",
   "execution_count": null,
   "metadata": {},
   "outputs": [],
   "source": [
    "# Write your code here. \n",
    "\n",
    "# Note: Before you start coding, \n",
    "#       use comments to work out the problem step-by-step...\n",
    "\n",
    "\n",
    "# Step 1: Determine G_s\n",
    "\n",
    "\n",
    "\n",
    "# Step 2: ..."
   ]
  },
  {
   "cell_type": "markdown",
   "metadata": {},
   "source": [
    "[Type your answer to question 3 here.]"
   ]
  },
  {
   "cell_type": "markdown",
   "metadata": {},
   "source": [
    "\n",
    "### <div class=\"practice\"> 📚 Practice 2.\n",
    "In the cell below, answer the question by defining a new string variable. Use the `print()`  command to output your answer.\n"
   ]
  },
  {
   "cell_type": "code",
   "execution_count": null,
   "metadata": {},
   "outputs": [],
   "source": [
    "# Question\n",
    "q1 = 'What is Newton\\'s 1st law of motion?'\n",
    "\n",
    "# Answer the question by defining a new string variable.\n",
    "\n",
    "# Print your answer.\n"
   ]
  },
  {
   "cell_type": "markdown",
   "metadata": {},
   "source": [
    "## 📚 Practice 3.\n",
    "Assign your first and last names to variables and use the <code>+</code> operator to combine them into a single variable. Practice capitalizing the first letter and then the entire string. Print your answers."
   ]
  },
  {
   "cell_type": "code",
   "execution_count": null,
   "metadata": {},
   "outputs": [],
   "source": [
    "# Define variables\n",
    "\n",
    "# Combine in a single string.\n",
    "\n",
    "# Capitalize the first letter\n",
    "\n",
    "# Capitalize the entire string.\n",
    "\n",
    "# Print outputs.\n"
   ]
  },
  {
   "cell_type": "markdown",
   "metadata": {},
   "source": [
    "\n",
    "### <div class=\"Practice\"> 📚 Practice 4\n",
    "Use the code below to write a formatted string that prints the sentence <code>My name is [YOUR FIRST NAME]. I am [YOUR AGE] years old.</code>, inputing your name and age. Replace <code>first</code> with the name of the variable you assigned to your first name in the previous question. Replace <code>age</code> with your age as an integer.\n",
    "</div>"
   ]
  },
  {
   "cell_type": "code",
   "execution_count": null,
   "metadata": {},
   "outputs": [],
   "source": [
    "# Define variables first and age\n",
    "\n",
    "# Define the variable info.\n",
    "info = (first, age)\n",
    "\n",
    "# Complete the sentence to be printed\n",
    "sentence = \"My name...\"\n",
    "\n",
    "# Print\n",
    "print( sentence % info)"
   ]
  },
  {
   "cell_type": "markdown",
   "metadata": {},
   "source": [
    "\n",
    "\n",
    "### <div class=\"practice\"> 📚 Practice 5.\n",
    "Rewrite your answers to practice questions 1 and 2 using formatted print statements. \n",
    "\n",
    "Each answer should include: \n",
    "\n",
    "1. What you are solving for; \n",
    "2. Your solution, with the correct formatting, and \n",
    "3. Units. \n",
    "\n",
    "For example:\n",
    "\n",
    "<p style=\"font-weight: normal; text-align: center; margin-top: 12pt\"> <code>The radius of the earth is 6,378 km.</code> </p>\n",
    "\n",
    "</div>"
   ]
  },
  {
   "cell_type": "code",
   "execution_count": null,
   "metadata": {},
   "outputs": [],
   "source": [
    "# Formatted print statement for 1a.\n",
    "\n",
    "# Formatted print statement for 1b.\n"
   ]
  }
 ],
 "metadata": {
  "language_info": {
   "name": "python"
  },
  "orig_nbformat": 4
 },
 "nbformat": 4,
 "nbformat_minor": 2
}

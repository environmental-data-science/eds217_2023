{
 "cells": [
  {
   "cell_type": "markdown",
   "metadata": {},
   "source": [
    "| [🏠 Course Home](../index.ipynb) | [➡️ Next Session](practice_1-2_lists.ipynb) |\n",
    "\n",
    "# Practice 1-1: Variables & Operators\n",
    "\n",
    "![variables.jpg](assets/variables.jpg)\n",
    "\n",
    "\n",
    "<hr style=\"border-top: 1px solid gray; margin-top: 24px; margin-bottom: 1px\"></hr>"
   ]
  },
  {
   "cell_type": "markdown",
   "metadata": {},
   "source": [
    "\n",
    "### <div class=\"practice\"> 📚 Practice 2.\n",
    "In the cell below, answer the question by defining a new string variable. Use the `print()`  command to output your answer.\n"
   ]
  },
  {
   "cell_type": "code",
   "execution_count": null,
   "metadata": {},
   "outputs": [],
   "source": [
    "# Question\n",
    "q1 = 'What is Newton\\'s 1st law of motion?'\n",
    "\n",
    "# Answer the question by defining a new string variable.\n",
    "\n",
    "# Print your answer.\n"
   ]
  },
  {
   "cell_type": "markdown",
   "metadata": {},
   "source": [
    "## 📚 Practice 3.\n",
    "Assign your first and last names to variables and use the <code>+</code> operator to combine them into a single variable. Practice capitalizing the first letter and then the entire string. Print your answers."
   ]
  },
  {
   "cell_type": "code",
   "execution_count": null,
   "metadata": {},
   "outputs": [],
   "source": [
    "# Define variables\n",
    "\n",
    "# Combine in a single string.\n",
    "\n",
    "# Capitalize the first letter\n",
    "\n",
    "# Capitalize the entire string.\n",
    "\n",
    "# Print outputs.\n"
   ]
  },
  {
   "cell_type": "markdown",
   "metadata": {},
   "source": [
    "\n",
    "### <div class=\"Practice\"> 📚 Practice 4\n",
    "Use the code below to write a formatted string that prints the sentence <code>My name is [YOUR FIRST NAME]. I am [YOUR AGE] years old.</code>, inputing your name and age. Replace <code>first</code> with the name of the variable you assigned to your first name in the previous question. Replace <code>age</code> with your age as an integer.\n",
    "</div>"
   ]
  },
  {
   "cell_type": "code",
   "execution_count": null,
   "metadata": {},
   "outputs": [],
   "source": [
    "# Define variables first and age\n",
    "\n",
    "# Define the variable info.\n",
    "info = (first, age)\n",
    "\n",
    "# Complete the sentence to be printed\n",
    "sentence = \"My name...\"\n",
    "\n",
    "# Print\n",
    "print( sentence % info)"
   ]
  },
  {
   "cell_type": "markdown",
   "metadata": {},
   "source": [
    "\n",
    "\n",
    "### <div class=\"practice\"> 📚 Practice 5.\n",
    "Rewrite your answers to practice questions 1 and 2 using formatted print statements. \n",
    "\n",
    "Each answer should include: \n",
    "\n",
    "1. What you are solving for; \n",
    "2. Your solution, with the correct formatting, and \n",
    "3. Units. \n",
    "\n",
    "For example:\n",
    "\n",
    "<p style=\"font-weight: normal; text-align: center; margin-top: 12pt\"> <code>The radius of the earth is 6,378 km.</code> </p>\n",
    "\n",
    "</div>"
   ]
  },
  {
   "cell_type": "code",
   "execution_count": null,
   "metadata": {},
   "outputs": [],
   "source": [
    "# Formatted print statement for 1a.\n",
    "\n",
    "# Formatted print statement for 1b.\n"
   ]
  }
 ],
 "metadata": {
  "language_info": {
   "name": "python"
  },
  "orig_nbformat": 4
 },
 "nbformat": 4,
 "nbformat_minor": 2
}
